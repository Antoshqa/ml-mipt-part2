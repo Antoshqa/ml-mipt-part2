{
 "cells": [
  {
   "cell_type": "markdown",
   "metadata": {},
   "source": [
    "МФТИ ФИВТ: Курс Машинное Обучение (осень, 2016), Алексей Романенко, alexromsput@gmail.com"
   ]
  },
  {
   "cell_type": "markdown",
   "metadata": {},
   "source": [
    "<h1 align=\"center\">Organization Info</h1> "
   ]
  },
  {
   "cell_type": "markdown",
   "metadata": {},
   "source": [
    "**Дополнительный материал для выполнения дз**:\n",
    "- Лукишн Ю.П. Адаптивные методы краткосрочного прогнозирования временных рядов. Финансы и статистика. 2003, главы 1,4,5,7.\n",
    "- Магнус Я.Р., Катышев П.К., Пересецкий А.А. Эконометрика. Начальный курс., глава 11\n",
    "\n",
    "**Оформление дз**: \n",
    "- Присылайте выполненное задание на почту ``ml.course.mipt@gmail.com``\n",
    "- Укажите тему письма в следующем формате ``ML2016_fall <номер_группы> <фамилия>``, к примеру -- ``ML2016_fall 401 ivanov``\n",
    "- Выполненное дз сохраните в файл ``<фамилия>_<группа>_task<номер>.ipnb``, к примеру -- ``ivanov_401_task1.ipnb``\n",
    "\n",
    "**Вопросы**:\n",
    "- Присылайте вопросы на почту ``ml.course.mipt@gmail.com``\n",
    "- Укажите тему письма в следующем формате ``ML2016_fall Question <Содержание вопроса>``\n",
    "\n",
    "--------\n",
    "- **PS1**: Мы используем автоматические фильтры, и просто не найдем ваше дз, если вы не аккуратно его подпишите.\n",
    "- **PS2**: Напоминаем, что дедлайны жесткие, письма пришедшие после автоматически удаляются =( чтобы соблазна не было "
   ]
  },
  {
   "cell_type": "markdown",
   "metadata": {},
   "source": [
    "<h1 align=\"center\">Check Questions</h1> "
   ]
  },
  {
   "cell_type": "markdown",
   "metadata": {},
   "source": [
    "Ответе на вопросы своими словами (загугленный материал надо пересказать), ответ обоснуйте (напишите и ОБЪЯСНИТЕ формулки если потребуется), если не выходит, то вернитесь к лекции дополнительным материалам:\n",
    "\n",
    "**Вопрос 1**: Опишите, как изменяется адаптивная способность алгоритма ЭСС при изменении параметра $\\alpha$ от 0 до 1.\n",
    "\n",
    "<Ответ>\n",
    "\n",
    "**Вопрос 2**: Каким следует выбрать параметр сглаживания тренда $\\alpha_2$ в модели Хольта (линейный тренд) в случае, когда вы предсказываете временной ряд 1) с плавно меняющимя трендом; 2) стохастически меняющися трендом?\n",
    "\n",
    "<Ответ>\n",
    "\n",
    "**Вопрос 3**: Выпишите формулу временного ряда, соответствующих следующим ARIMA моделям\n",
    "  \n",
    "  1) ARIMA $(p=0,q=1,d=s)$\n",
    "  \n",
    "  2) ARIMA $(p=0,q=s+1,d=1)(P=1, Q=0, D=1)$\n",
    "\n",
    "<Ответ>\n",
    "\n",
    "**Вопрос 4**:  Приведите пример такой модели типа ЭС (экспоненциальное сглаживание), которой нет эквивалента среди семейства ARIMA. \n",
    "\n",
    "**Вопрос 5**:  В чем принципиальное отличие между адаптивной композицей и адаптивной селективной моделью прогнозирования?\n",
    "В какие случаях предполчительнее использовать адаптивную селекцию нежели адаптивную композцию?\n",
    "\n",
    "<Ответ>\n",
    "\n",
    "**Вопрос 6**: Что такое hold-out период и out-of-sample период?\n",
    "\n",
    "<Ответ>\n",
    "\n",
    "** Вопрос 7**: Опишите, что такое автокорреляционная функция и частная автокорреляционная функция.\n",
    "Зачем они нужны?\n",
    "\n",
    "-----------\n",
    "PS: Если проверяющий не понял ответ на большинство вопросов, то будет пичалька. Пишите так, чтобы можно было разобраться. "
   ]
  },
  {
   "cell_type": "markdown",
   "metadata": {
    "collapsed": true
   },
   "source": [
    "<h1 align=\"center\">Оценка точности моделей прогнозирования</h1> "
   ]
  },
  {
   "cell_type": "markdown",
   "metadata": {},
   "source": [
    "Задача 1\n",
    "\n",
    "    Приведите пример временного ряда и модели прогнозирования, когда оценка точности прогнозирования на hold-out (validation set) периоде будет завышена по сравнению с точностью на периоде out-of-sample (test Set).\n",
    "**<Решение>**"
   ]
  },
  {
   "cell_type": "markdown",
   "metadata": {},
   "source": [
    "<h1 align=\"center\">Реализация модели Уинтерса</h1>\n",
    "Нужно реализовать модель Уинтерса c аддитивныой сезонностью, применить её для прогнозирования временных рядов\n"
   ]
  },
  {
   "cell_type": "markdown",
   "metadata": {},
   "source": [
    "This practice task is desinged for impriving knowledge of ES models and getting aqcuainted with time series analysis (with python pandas).\n",
    "\n",
    "The task should take about 3-5 hours to be completed."
   ]
  },
  {
   "cell_type": "markdown",
   "metadata": {},
   "source": [
    "<h1 align=\"center\">1. Reading data (10%)</h1>\n",
    "\n",
    "  * Download data for following data sets\n",
    "     - 1) <span style=\"color:blue; font-family:'New Times Roman'; font-size:14pt\">monthly-wage.csv </span>(1 TS of monthly wage in Russia)\n",
    "     - 2) <span style=\"color:blue; font-family:'New Times Roman'; font-size:14pt\">TS_dep36.csv</span> (105 TS of goods sales in shop #36 of one real Retail Net, each TS correspond to an item in shop )\n",
    "     - 3) <span style=\"color:blue; font-family:'New Times Roman'; font-size:14pt\">TS_dep42.csv</span> (105 TS of goods sales in shop #42 of one real Retail Net, each TS correspond to an item in shop)\n",
    "     - 4) <span style=\"color:blue; font-family:'New Times Roman'; font-size:14pt\">TS_dep6.csv </span>(110 TS of goods sales in shop #6 of one real Retail Net, each TS correspond to an item in shop)\n",
    " \n",
    " All data you can find by <a href='https://1drv.ms/f/s!AqGgzb5T4tvShZ1-xS0s6FhP5x-05g'>link</a> \n",
    " \n",
    " \n",
    " * For each data set: \n",
    "      - 1) learn it's structure in csv-file and read it into Pandas data frame (be careful with parsing data)\n",
    "      - 2) plot time series (for data sets with a lot of TS you need to plot integral sales of all items in shop)\n",
    "      - 3) answer the questions: is there seasonlaity, trend, changes in level in TS? If there is seasonality then define period of seasonality. "
   ]
  },
  {
   "cell_type": "code",
   "execution_count": null,
   "metadata": {
    "collapsed": true
   },
   "outputs": [],
   "source": [
    "# start with this code\n",
    "import pandas as pd\n",
    "import numpy as np\n",
    "from utils import qualityRMSE, qualityMedianAE\n",
    "from utils import ExponentialSmoothing\n",
    "\n",
    "%matplotlib inline\n",
    "\n",
    "\n",
    "ts = pd.read_csv('./data/mothly_wage.csv', sep=???, decimal=???, index_col=???, parse_dates=True, dayfirst=True)\n",
    "\n",
    "# Put your code below\n",
    "ts.plot(figsize=(15,3))"
   ]
  },
  {
   "cell_type": "markdown",
   "metadata": {},
   "source": [
    "<h1 align=\"center\">2. Apply Simple ES to data with trend and Seasonality (15%) </h1>\n",
    "You need to apply SES (IES see seminar 2) model for TS <span style=\"color:blue; font-family:'New Times Roman'; font-size:14pt\">monthly-wage.csv</span>.\n",
    "\n",
    "Forecast delay $h=1$ for all point in this task.\n",
    "\n",
    " * 1) Find the best param $\\alpha$ of SES for data period from 09.1998 to 01.2015. Is the optimal value close to 0 or 1? (You can choose any loss function from seminar 2).\n",
    " * 2) Draw forecast with optimial value $\\alpha$ for data from 09.1998 to 01.2017. Conclude whether SES can be used for this TS? If can not than explain why.\n",
    " * 3) Calculate accuracy of the forecast of TS in [02.2016, 01.2017].\n",
    " * 4) Aggregate original TS by Years (time step chould be 1 year). Repeat point 1)-2) for aggregated TS."
   ]
  },
  {
   "cell_type": "code",
   "execution_count": null,
   "metadata": {
    "collapsed": true
   },
   "outputs": [],
   "source": [
    "# put your code here\n",
    "\n",
    "# Example: draw of ts and it's forecast \n",
    "ts.ix['2005-05-12':'2006-06-10'].plot(style='b', linewidth=1.0, marker='o')\n",
    "frc_ts.ix['2005-05-12':'2006-06-10'].plot(style='r-^', figsize=(15,5), linewidth=1.0)\n",
    "plt.xlabel(\"Time ticks\")\n",
    "plt.ylabel(\"TS values\")\n",
    "# plt.legend()"
   ]
  },
  {
   "cell_type": "markdown",
   "metadata": {},
   "source": [
    "<h1 align=\"center\">3. Winters model for Additive Seasonality (25%) </h1>\n",
    "You need to realize ES model for TS with additive seasonality and then use it for forecasting real TS <span style=\"color:blue; font-family:'New Times Roman'; font-size:14pt\">monthly-wage.csv</span>.\n",
    "\n",
    "Forecast delay $h=1$ for all point in this task.\n",
    "\n",
    "* 1) Realize Winters model for Seasonal TS (use code from seminar 2 as example)\n",
    "* 2) Find optimal params $\\alpha$ (smoothing of level) and $\\gamma$ (smoothing of seasonality) (use data from 09.1998 to 01.2015).(Loss function should be the same as in task 2.)\n",
    "* 3) Draw forecast with optimal values $\\alpha$ and $\\gamma$ from 09.1998 to 01.2017. \n",
    "* 4) Calculate accuracy of the forecast of TS in [02.2016, 01.2017] (Loss function should be the same as in task 2.). Compare it with accuracy of SES: is it better? \n",
    "* \\*5) Conclude whether Winter's ES can be used for this TS?"
   ]
  },
  {
   "cell_type": "code",
   "execution_count": null,
   "metadata": {
    "collapsed": true
   },
   "outputs": [],
   "source": [
    "# Start with this code\n",
    "\n",
    "\n",
    "###################### Winters Exponential Smoothing #########################\n",
    "# x <array Tx1>- time series, \n",
    "# h <scalar> - forecasting delay\n",
    "# Params <dict> - dictionary with \n",
    "#    alpha <scalar in [0,1]> - smoothing parameter\n",
    "#    delts <scalar in [0,1]> - seasonality smoothing parameter\n",
    "\n",
    "def WintersExponentialSmoothing(x, h, Params):\n",
    "    T = len(x)\n",
    "    alpha = Params['alpha']\n",
    "    delta = Params['delta']\n",
    "    p = Params['seasonality_period']\n",
    "    \n",
    "    FORECAST = ## put foreast of the model here\n",
    "    \n",
    "    l= # initialize ts level \n",
    "    s= # initalize seasonality values (it must be vector of lenth p)\n",
    "    \n",
    "    for cntr in range(T):\n",
    "        if not math.isnan(x[cntr]):\n",
    "            if math.isnan(l):\n",
    "                l= # initialize \n",
    " \n",
    "            if math.isnan(s[cntr % p]):\n",
    "                s[cntr % p]= # initialize \n",
    " \n",
    "            l = # recurrent smoothing of level \n",
    "            s[cntr % p] = # recurrent smoothing of seasonality\n",
    "            \n",
    "        FORECAST[cntr+h] = a + b[cntr+h % s]\n",
    "    return FORECAST"
   ]
  },
  {
   "cell_type": "code",
   "execution_count": null,
   "metadata": {
    "collapsed": true
   },
   "outputs": [],
   "source": [
    "# Put your code here\n",
    "\n",
    "# Example: run forecast:\n",
    "h = 1\n",
    "rng = pd.date_range(ts.index[-1]+timedelta(1), ts.index[-1]+timedelta(h))\n",
    "\n",
    "w_frc_ts = pd.DataFrame(index = ts.index.append(rng), columns = ts.columns)\n",
    "#     Quality = [np.NaN]*len(ts)\n",
    "for cntr in ts.columns:\n",
    "    w_frc_ts[cntr] = WintersExponentialSmoothing(ts[cntr], h, {'alpha':0.1, 'delta': 0.3})"
   ]
  },
  {
   "cell_type": "markdown",
   "metadata": {},
   "source": [
    "<h2 align=\"left\">4. Theil-Wage model for TS with linear trend and seasonality (25%)</h2>\n",
    "You need to realize Theil-Wage model and then use it for forecasting real TS <span style=\"color:blue; font-family:'New Times Roman'; font-size:14pt\">monthly-wage.csv</span>.\n",
    "\n",
    "Forecast delay $h=1$ for all point in this task.\n",
    "\n",
    "* 1) Realize Theil-Wage model for (use code from seminar 2 as example)\n",
    "* 2) Find optimal params $\\alpha$ (smoothing of level), $\\beta$ (smoothing trend) and $\\gamma$ (smoothing of seasonality) (use data from 09.1998 to 01.2015).(Loss function should be the same as in task 2.)\n",
    "* 3) Draw forecast with optimal values $\\alpha$, $\\beta$ and $\\gamma$ from 09.1998 to 01.2017. \n",
    "* 4) Calculate accuracy of the forecast of TS in [02.2016, 01.2017] (Loss function should be the same as in task 2.). Compare it with accuracy of Winters model: is it better than the last one? \n",
    "* \\*5) Suggest how can the Theil-Wage model be improved to make accuracy of forecast better?"
   ]
  },
  {
   "cell_type": "code",
   "execution_count": 3,
   "metadata": {
    "collapsed": true
   },
   "outputs": [],
   "source": [
    "# Put your code here"
   ]
  },
  {
   "cell_type": "markdown",
   "metadata": {},
   "source": [
    "<h2 align=\"left\"> 5. Non-additive model of ES (25%)</h2>\n",
    "You need to realize some ES-model that include non-addive component (or multiplicative trend or multiplicative component) and then use it for forecasting real TS <span style=\"color:blue; font-family:'New Times Roman'; font-size:14pt\">monthly-wage.csv</span>.\n",
    "\n",
    "Forecast delay $h=1$ for all point in this task.\n",
    "\n",
    "* 1) Realize one of following ES models: ESM(A,M) (t.e. Holt-Winters model), ESM(Ad,M), ESM(M,A), ESM(M,M) model.\n",
    "* 2) Find optimal params of the model (use data from 09.1998 to 01.2015). Note: if you choose damped trend model that $\\phi$ you can just set it expetrly (say $0.98$). (Loss function should be the same as in task 2.)\n",
    "* 3) Draw forecast with optimal values of it's params from 09.1998 to 01.2017. \n",
    "* 4) Calculate accuracy of the forecast of TS in [02.2016, 01.2017] (Loss function should be the same as in task 2.). Compare it with accuracy of Winters model and Theil-Wage model: is it better than the last one? \n",
    "* 5) Is it true that multiplicative model are more unstable than additive? Unstable means thet forecast is can diver"
   ]
  },
  {
   "cell_type": "code",
   "execution_count": null,
   "metadata": {
    "collapsed": true
   },
   "outputs": [],
   "source": [
    "# Put your code here"
   ]
  }
 ],
 "metadata": {
  "anaconda-cloud": {},
  "kernelspec": {
   "display_name": "Python [default]",
   "language": "python",
   "name": "python2"
  },
  "language_info": {
   "codemirror_mode": {
    "name": "ipython",
    "version": 2
   },
   "file_extension": ".py",
   "mimetype": "text/x-python",
   "name": "python",
   "nbconvert_exporter": "python",
   "pygments_lexer": "ipython2",
   "version": "2.7.12"
  }
 },
 "nbformat": 4,
 "nbformat_minor": 0
}
