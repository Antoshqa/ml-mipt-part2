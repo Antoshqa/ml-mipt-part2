{
 "cells": [
  {
   "cell_type": "markdown",
   "metadata": {},
   "source": [
    " МФТИ ФИВТ: Курс Машинное Обучение (осень, 2016), Зухба Анастасия, a__l@mail.ru"
   ]
  },
  {
   "cell_type": "code",
   "execution_count": 1,
   "metadata": {
    "collapsed": false
   },
   "outputs": [
    {
     "name": "stdout",
     "output_type": "stream",
     "text": [
      "Populating the interactive namespace from numpy and matplotlib\n"
     ]
    }
   ],
   "source": [
    "%pylab inline"
   ]
  },
  {
   "cell_type": "code",
   "execution_count": 2,
   "metadata": {
    "collapsed": true
   },
   "outputs": [],
   "source": [
    "import pandas\n",
    "import numpy as np"
   ]
  },
  {
   "cell_type": "markdown",
   "metadata": {},
   "source": [
    "# Критерии качества моделей"
   ]
  },
  {
   "cell_type": "markdown",
   "metadata": {},
   "source": [
    "Внутренний критерий оценивает качество на обучении $X^l$, а внешний оценивает качество <<вне обучения>>,\n",
    "    например, по отложенной  (hold-out) контрольной выборке $X^k$."
   ]
  },
  {
   "cell_type": "code",
   "execution_count": 3,
   "metadata": {
    "collapsed": true
   },
   "outputs": [],
   "source": [
    "from sklearn import metrics"
   ]
  },
  {
   "cell_type": "markdown",
   "metadata": {},
   "source": [
    "### Метрики качества регрессии"
   ]
  },
  {
   "cell_type": "code",
   "execution_count": 4,
   "metadata": {
    "collapsed": true
   },
   "outputs": [],
   "source": [
    "from sklearn.datasets import load_boston\n",
    "from sklearn.cross_validation import train_test_split\n",
    "from sklearn.preprocessing import scale\n",
    "\n",
    "data = load_boston()\n",
    "\n",
    "data.data = scale(data.data)\n",
    "\n",
    "X_train, X_test, y_train, y_test = train_test_split(data.data, data.target, test_size=0.3)"
   ]
  },
  {
   "cell_type": "code",
   "execution_count": 5,
   "metadata": {
    "collapsed": true
   },
   "outputs": [],
   "source": [
    "from sklearn.linear_model import Ridge"
   ]
  },
  {
   "cell_type": "code",
   "execution_count": 6,
   "metadata": {
    "collapsed": true
   },
   "outputs": [],
   "source": [
    "regr = Ridge()\n",
    "regr.fit(X_train, y_train)\n",
    "pred = regr.predict(X_test)"
   ]
  },
  {
   "cell_type": "code",
   "execution_count": 7,
   "metadata": {
    "collapsed": false
   },
   "outputs": [
    {
     "name": "stdout",
     "output_type": "stream",
     "text": [
      "RMSE: 4.93923741987\n",
      "MAE: 3.41199513307\n",
      "R2: 0.712719736375\n"
     ]
    }
   ],
   "source": [
    "print 'RMSE:', np.sqrt(metrics.mean_squared_error(y_test, pred))\n",
    "print 'MAE:', metrics.mean_absolute_error(y_test, pred)\n",
    "print 'R2:', metrics.r2_score(y_test, pred)"
   ]
  },
  {
   "cell_type": "markdown",
   "metadata": {},
   "source": [
    "#### Как распределена ошибка по объектам?"
   ]
  },
  {
   "cell_type": "code",
   "execution_count": 8,
   "metadata": {
    "collapsed": false
   },
   "outputs": [
    {
     "data": {
      "image/png": "[encoded data removed]",
      "text/plain": [
       "<matplotlib.figure.Figure at 0x109539290>"
      ]
     },
     "metadata": {},
     "output_type": "display_data"
    }
   ],
   "source": [
    "import matplotlib.pyplot as plt\n",
    "\n",
    "quad_errors = np.power(pred - y_test, 2.0)\n",
    "plt.hist(quad_errors, bins=100)\n",
    "plt.show()"
   ]
  },
  {
   "cell_type": "code",
   "execution_count": 9,
   "metadata": {
    "collapsed": false
   },
   "outputs": [
    {
     "data": {
      "text/plain": [
       "array([ 0.2417502 , -0.48772236,  1.01599907,  3.66839786,  0.65914726,\n",
       "        0.56753503,  1.00370066, -1.15911286,  1.66124525,  1.53092646,\n",
       "        0.80657583,  0.20455072, -1.25077953])"
      ]
     },
     "execution_count": 9,
     "metadata": {},
     "output_type": "execute_result"
    }
   ],
   "source": [
    "idx = np.argmax(quad_errors)\n",
    "X_test[idx, :]"
   ]
  },
  {
   "cell_type": "code",
   "execution_count": 10,
   "metadata": {
    "collapsed": false
   },
   "outputs": [
    {
     "name": "stdout",
     "output_type": "stream",
     "text": [
      "1.48580821577\n"
     ]
    },
    {
     "name": "stderr",
     "output_type": "stream",
     "text": [
      "/Users/FlareN/shad-env/lib/python2.7/site-packages/sklearn/utils/validation.py:386: DeprecationWarning: Passing 1d arrays as data is deprecated in 0.17 and willraise ValueError in 0.19. Reshape your data either using X.reshape(-1, 1) if your data has a single feature or X.reshape(1, -1) if it contains a single sample.\n",
      "  DeprecationWarning)\n"
     ]
    }
   ],
   "source": [
    "print np.min(metrics.pairwise.euclidean_distances(X_train, X_test[idx]))"
   ]
  },
  {
   "cell_type": "code",
   "execution_count": 11,
   "metadata": {
    "collapsed": false
   },
   "outputs": [
    {
     "name": "stdout",
     "output_type": "stream",
     "text": [
      "0.860230925581\n",
      "0.58313626466\n"
     ]
    }
   ],
   "source": [
    "# среднее расстояние от тестового объекта до обучающей выборки\n",
    "print np.min(metrics.pairwise.euclidean_distances(X_train, X_test), axis=0).mean()\n",
    "print np.min(metrics.pairwise.euclidean_distances(X_train, X_test), axis=0).std()"
   ]
  },
  {
   "cell_type": "markdown",
   "metadata": {},
   "source": [
    "Возможно, в обучающей выборке не было объектов, похожих на данный."
   ]
  },
  {
   "cell_type": "markdown",
   "metadata": {},
   "source": [
    "### Метрики качества классификации"
   ]
  },
  {
   "cell_type": "markdown",
   "metadata": {},
   "source": [
    "THE CARAVAN INSURANCE DATA\n",
    "\n",
    "http://kdd.ics.uci.edu/databases/tic/tic.html\n",
    "\n",
    "Задача: предсказать, купит ли человек страховку"
   ]
  },
  {
   "cell_type": "code",
   "execution_count": 12,
   "metadata": {
    "collapsed": false
   },
   "outputs": [
    {
     "data": {
      "text/html": [
       "<div>\n",
       "<table border=\"1\" class=\"dataframe\">\n",
       "  <thead>\n",
       "    <tr style=\"text-align: right;\">\n",
       "      <th></th>\n",
       "      <th>0</th>\n",
       "      <th>1</th>\n",
       "      <th>2</th>\n",
       "      <th>3</th>\n",
       "      <th>4</th>\n",
       "      <th>5</th>\n",
       "      <th>6</th>\n",
       "      <th>7</th>\n",
       "      <th>8</th>\n",
       "      <th>9</th>\n",
       "      <th>...</th>\n",
       "      <th>76</th>\n",
       "      <th>77</th>\n",
       "      <th>78</th>\n",
       "      <th>79</th>\n",
       "      <th>80</th>\n",
       "      <th>81</th>\n",
       "      <th>82</th>\n",
       "      <th>83</th>\n",
       "      <th>84</th>\n",
       "      <th>85</th>\n",
       "    </tr>\n",
       "  </thead>\n",
       "  <tbody>\n",
       "    <tr>\n",
       "      <th>0</th>\n",
       "      <td>33</td>\n",
       "      <td>1</td>\n",
       "      <td>3</td>\n",
       "      <td>2</td>\n",
       "      <td>8</td>\n",
       "      <td>0</td>\n",
       "      <td>5</td>\n",
       "      <td>1</td>\n",
       "      <td>3</td>\n",
       "      <td>7</td>\n",
       "      <td>...</td>\n",
       "      <td>0</td>\n",
       "      <td>0</td>\n",
       "      <td>0</td>\n",
       "      <td>1</td>\n",
       "      <td>0</td>\n",
       "      <td>0</td>\n",
       "      <td>0</td>\n",
       "      <td>0</td>\n",
       "      <td>0</td>\n",
       "      <td>0</td>\n",
       "    </tr>\n",
       "    <tr>\n",
       "      <th>1</th>\n",
       "      <td>37</td>\n",
       "      <td>1</td>\n",
       "      <td>2</td>\n",
       "      <td>2</td>\n",
       "      <td>8</td>\n",
       "      <td>1</td>\n",
       "      <td>4</td>\n",
       "      <td>1</td>\n",
       "      <td>4</td>\n",
       "      <td>6</td>\n",
       "      <td>...</td>\n",
       "      <td>0</td>\n",
       "      <td>0</td>\n",
       "      <td>0</td>\n",
       "      <td>1</td>\n",
       "      <td>0</td>\n",
       "      <td>0</td>\n",
       "      <td>0</td>\n",
       "      <td>0</td>\n",
       "      <td>0</td>\n",
       "      <td>0</td>\n",
       "    </tr>\n",
       "    <tr>\n",
       "      <th>2</th>\n",
       "      <td>37</td>\n",
       "      <td>1</td>\n",
       "      <td>2</td>\n",
       "      <td>2</td>\n",
       "      <td>8</td>\n",
       "      <td>0</td>\n",
       "      <td>4</td>\n",
       "      <td>2</td>\n",
       "      <td>4</td>\n",
       "      <td>3</td>\n",
       "      <td>...</td>\n",
       "      <td>0</td>\n",
       "      <td>0</td>\n",
       "      <td>0</td>\n",
       "      <td>1</td>\n",
       "      <td>0</td>\n",
       "      <td>0</td>\n",
       "      <td>0</td>\n",
       "      <td>0</td>\n",
       "      <td>0</td>\n",
       "      <td>0</td>\n",
       "    </tr>\n",
       "    <tr>\n",
       "      <th>3</th>\n",
       "      <td>9</td>\n",
       "      <td>1</td>\n",
       "      <td>3</td>\n",
       "      <td>3</td>\n",
       "      <td>3</td>\n",
       "      <td>2</td>\n",
       "      <td>3</td>\n",
       "      <td>2</td>\n",
       "      <td>4</td>\n",
       "      <td>5</td>\n",
       "      <td>...</td>\n",
       "      <td>0</td>\n",
       "      <td>0</td>\n",
       "      <td>0</td>\n",
       "      <td>1</td>\n",
       "      <td>0</td>\n",
       "      <td>0</td>\n",
       "      <td>0</td>\n",
       "      <td>0</td>\n",
       "      <td>0</td>\n",
       "      <td>0</td>\n",
       "    </tr>\n",
       "    <tr>\n",
       "      <th>4</th>\n",
       "      <td>40</td>\n",
       "      <td>1</td>\n",
       "      <td>4</td>\n",
       "      <td>2</td>\n",
       "      <td>10</td>\n",
       "      <td>1</td>\n",
       "      <td>4</td>\n",
       "      <td>1</td>\n",
       "      <td>4</td>\n",
       "      <td>7</td>\n",
       "      <td>...</td>\n",
       "      <td>0</td>\n",
       "      <td>0</td>\n",
       "      <td>0</td>\n",
       "      <td>1</td>\n",
       "      <td>0</td>\n",
       "      <td>0</td>\n",
       "      <td>0</td>\n",
       "      <td>0</td>\n",
       "      <td>0</td>\n",
       "      <td>0</td>\n",
       "    </tr>\n",
       "  </tbody>\n",
       "</table>\n",
       "<p>5 rows × 86 columns</p>\n",
       "</div>"
      ],
      "text/plain": [
       "   0   1   2   3   4   5   6   7   8   9  ...  76  77  78  79  80  81  82  83  \\\n",
       "0  33   1   3   2   8   0   5   1   3   7 ...   0   0   0   1   0   0   0   0   \n",
       "1  37   1   2   2   8   1   4   1   4   6 ...   0   0   0   1   0   0   0   0   \n",
       "2  37   1   2   2   8   0   4   2   4   3 ...   0   0   0   1   0   0   0   0   \n",
       "3   9   1   3   3   3   2   3   2   4   5 ...   0   0   0   1   0   0   0   0   \n",
       "4  40   1   4   2  10   1   4   1   4   7 ...   0   0   0   1   0   0   0   0   \n",
       "\n",
       "   84  85  \n",
       "0   0   0  \n",
       "1   0   0  \n",
       "2   0   0  \n",
       "3   0   0  \n",
       "4   0   0  \n",
       "\n",
       "[5 rows x 86 columns]"
      ]
     },
     "execution_count": 12,
     "metadata": {},
     "output_type": "execute_result"
    }
   ],
   "source": [
    "data = pandas.read_csv('http://kdd.ics.uci.edu/databases/tic/ticdata2000.txt', sep='\\t', header=None)\n",
    "data.head()"
   ]
  },
  {
   "cell_type": "markdown",
   "metadata": {},
   "source": [
    "Данные несбалансированные — мало кто покупает страховку"
   ]
  },
  {
   "cell_type": "code",
   "execution_count": 13,
   "metadata": {
    "collapsed": false
   },
   "outputs": [
    {
     "data": {
      "text/plain": [
       "(5822, 86)"
      ]
     },
     "execution_count": 13,
     "metadata": {},
     "output_type": "execute_result"
    }
   ],
   "source": [
    "data.shape"
   ]
  },
  {
   "cell_type": "code",
   "execution_count": 14,
   "metadata": {
    "collapsed": false
   },
   "outputs": [
    {
     "data": {
      "text/plain": [
       "0    5474\n",
       "1     348\n",
       "Name: 85, dtype: int64"
      ]
     },
     "execution_count": 14,
     "metadata": {},
     "output_type": "execute_result"
    }
   ],
   "source": [
    "data.iloc[:, -1].value_counts()"
   ]
  },
  {
   "cell_type": "code",
   "execution_count": 15,
   "metadata": {
    "collapsed": true
   },
   "outputs": [],
   "source": [
    "X_train, X_test, y_train, y_test = train_test_split(scale(data.iloc[:, 1:-1].astype(np.float)),\n",
    "                                                    data.iloc[:, -1],\n",
    "                                                    test_size=0.3)"
   ]
  },
  {
   "cell_type": "code",
   "execution_count": 16,
   "metadata": {
    "collapsed": false
   },
   "outputs": [
    {
     "name": "stdout",
     "output_type": "stream",
     "text": [
      "positive class ration in train: 0.0579141104294\n",
      "positive class ration in test: 0.0641099026903\n"
     ]
    }
   ],
   "source": [
    "print 'positive class ration in train:', np.mean(y_train)\n",
    "print 'positive class ration in test:', np.mean(y_test)"
   ]
  },
  {
   "cell_type": "code",
   "execution_count": 17,
   "metadata": {
    "collapsed": true
   },
   "outputs": [],
   "source": [
    "from sklearn.linear_model import LogisticRegression\n",
    "clf = LogisticRegression()\n",
    "clf.fit(X_train, y_train)\n",
    "pred = clf.predict_proba(X_test)[:, 1]"
   ]
  },
  {
   "cell_type": "code",
   "execution_count": 18,
   "metadata": {
    "collapsed": false
   },
   "outputs": [
    {
     "name": "stdout",
     "output_type": "stream",
     "text": [
      "[[ 0.97785356  0.02214644]\n",
      " [ 0.94994657  0.05005343]\n",
      " [ 0.89542048  0.10457952]\n",
      " ..., \n",
      " [ 0.93039201  0.06960799]\n",
      " [ 0.98692929  0.01307071]\n",
      " [ 0.96980851  0.03019149]]\n"
     ]
    }
   ],
   "source": [
    "print clf.predict_proba(X_test)"
   ]
  },
  {
   "cell_type": "code",
   "execution_count": 19,
   "metadata": {
    "collapsed": false
   },
   "outputs": [
    {
     "name": "stdout",
     "output_type": "stream",
     "text": [
      "Accuracy: 0.933600457928\n",
      "Accuracy of constant classifier: 0.93589009731\n"
     ]
    }
   ],
   "source": [
    "pred_binary = (pred > 0.5).astype(np.int)\n",
    "print 'Accuracy:', metrics.accuracy_score(y_test, pred_binary)\n",
    "print 'Accuracy of constant classifier:', metrics.accuracy_score(y_test, np.zeros(y_test.shape))"
   ]
  },
  {
   "cell_type": "code",
   "execution_count": 20,
   "metadata": {
    "collapsed": false
   },
   "outputs": [
    {
     "name": "stdout",
     "output_type": "stream",
     "text": [
      "Precision: 0.0\n",
      "Recall: 0.0\n",
      "F1: 0.0\n"
     ]
    }
   ],
   "source": [
    "print 'Precision:', metrics.precision_score(y_test, pred_binary)\n",
    "print 'Recall:', metrics.recall_score(y_test, pred_binary)\n",
    "print 'F1:', metrics.f1_score(y_test, pred_binary)"
   ]
  },
  {
   "cell_type": "code",
   "execution_count": 21,
   "metadata": {
    "collapsed": false
   },
   "outputs": [
    {
     "name": "stdout",
     "output_type": "stream",
     "text": [
      "AUC-ROC: 0.757598842289\n",
      "AUC-PR: 0.17055001876\n"
     ]
    }
   ],
   "source": [
    "print 'AUC-ROC:', metrics.roc_auc_score(y_test, pred)\n",
    "print 'AUC-PR:', metrics.average_precision_score(y_test, pred)"
   ]
  },
  {
   "cell_type": "code",
   "execution_count": 22,
   "metadata": {
    "collapsed": false
   },
   "outputs": [
    {
     "data": {
      "image/png": "[encoded data removed]",
      "text/plain": [
       "<matplotlib.figure.Figure at 0x10992ed90>"
      ]
     },
     "metadata": {},
     "output_type": "display_data"
    }
   ],
   "source": [
    "fpr, tpr, thresholds = metrics.roc_curve(y_test, pred)\n",
    "plt.plot(fpr, tpr)\n",
    "plt.xlabel('FPR')\n",
    "plt.ylabel('TPR')\n",
    "plt.show()"
   ]
  },
  {
   "cell_type": "code",
   "execution_count": 23,
   "metadata": {
    "collapsed": false
   },
   "outputs": [
    {
     "data": {
      "image/png": "[encoded data removed]",
      "text/plain": [
       "<matplotlib.figure.Figure at 0x109853550>"
      ]
     },
     "metadata": {},
     "output_type": "display_data"
    }
   ],
   "source": [
    "precision, recall, thresholds = metrics.precision_recall_curve(y_test, pred)\n",
    "plt.plot(recall, precision)\n",
    "plt.xlabel('recall')\n",
    "plt.ylabel('precision')\n",
    "plt.show()"
   ]
  },
  {
   "cell_type": "code",
   "execution_count": 24,
   "metadata": {
    "collapsed": false
   },
   "outputs": [
    {
     "name": "stdout",
     "output_type": "stream",
     "text": [
      "             precision    recall  f1-score   support\n",
      "\n",
      "          0       0.94      1.00      0.97      1635\n",
      "          1       0.00      0.00      0.00       112\n",
      "\n",
      "avg / total       0.88      0.93      0.90      1747\n",
      "\n"
     ]
    }
   ],
   "source": [
    "print metrics.classification_report(y_test, pred_binary)"
   ]
  },
  {
   "cell_type": "markdown",
   "metadata": {},
   "source": [
    "#### Попробуем RandomForest"
   ]
  },
  {
   "cell_type": "code",
   "execution_count": 25,
   "metadata": {
    "collapsed": true
   },
   "outputs": [],
   "source": [
    "from sklearn.ensemble import RandomForestClassifier\n",
    "clf = RandomForestClassifier(n_estimators=1000)\n",
    "clf.fit(X_train, y_train)\n",
    "pred = clf.predict_proba(X_test)[:, 1]"
   ]
  },
  {
   "cell_type": "code",
   "execution_count": 26,
   "metadata": {
    "collapsed": false
   },
   "outputs": [
    {
     "name": "stdout",
     "output_type": "stream",
     "text": [
      "Accuracy: 0.922724670864\n",
      "Accuracy of constant classifier: 0.93589009731\n",
      "Precision: 0.151515151515\n",
      "Recall: 0.0446428571429\n",
      "F1: 0.0689655172414\n",
      "AUC-ROC: 0.709927916121\n",
      "AUC-PR: 0.132542863818\n"
     ]
    }
   ],
   "source": [
    "pred_binary = (pred > 0.5).astype(np.int)\n",
    "print 'Accuracy:', metrics.accuracy_score(y_test, pred_binary)\n",
    "print 'Accuracy of constant classifier:', metrics.accuracy_score(y_test, np.zeros(y_test.shape))\n",
    "print 'Precision:', metrics.precision_score(y_test, pred_binary)\n",
    "print 'Recall:', metrics.recall_score(y_test, pred_binary)\n",
    "print 'F1:', metrics.f1_score(y_test, pred_binary)\n",
    "print 'AUC-ROC:', metrics.roc_auc_score(y_test, pred)\n",
    "print 'AUC-PR:', metrics.average_precision_score(y_test, pred)"
   ]
  },
  {
   "cell_type": "markdown",
   "metadata": {},
   "source": [
    "(Random Forest не всегда лучше линейной модели)"
   ]
  },
  {
   "cell_type": "code",
   "execution_count": 27,
   "metadata": {
    "collapsed": false
   },
   "outputs": [
    {
     "data": {
      "image/png": "[encoded data removed]",
      "text/plain": [
       "<matplotlib.figure.Figure at 0x10a4a4550>"
      ]
     },
     "metadata": {},
     "output_type": "display_data"
    }
   ],
   "source": [
    "fpr, tpr, thresholds = metrics.roc_curve(y_test, pred)\n",
    "plt.plot(fpr, tpr)\n",
    "plt.xlabel('FPR')\n",
    "plt.ylabel('TPR')\n",
    "plt.show()"
   ]
  },
  {
   "cell_type": "code",
   "execution_count": 28,
   "metadata": {
    "collapsed": false
   },
   "outputs": [
    {
     "data": {
      "image/png": "[encoded data removed]",
      "text/plain": [
       "<matplotlib.figure.Figure at 0x10a424750>"
      ]
     },
     "metadata": {},
     "output_type": "display_data"
    }
   ],
   "source": [
    "precision, recall, thresholds = metrics.precision_recall_curve(y_test, pred)\n",
    "plt.plot(recall, precision)\n",
    "plt.xlabel('recall')\n",
    "plt.ylabel('precision')\n",
    "plt.show()"
   ]
  },
  {
   "cell_type": "markdown",
   "metadata": {},
   "source": [
    "### Кросс-валидация"
   ]
  },
  {
   "cell_type": "code",
   "execution_count": 29,
   "metadata": {
    "collapsed": true
   },
   "outputs": [],
   "source": [
    "data = load_boston()\n",
    "\n",
    "data.data = scale(data.data)\n",
    "\n",
    "X_train, X_test, y_train, y_test = train_test_split(data.data, data.target, test_size=0.3)"
   ]
  },
  {
   "cell_type": "code",
   "execution_count": 30,
   "metadata": {
    "collapsed": true
   },
   "outputs": [],
   "source": [
    "from sklearn.neighbors import KNeighborsRegressor"
   ]
  },
  {
   "cell_type": "code",
   "execution_count": 31,
   "metadata": {
    "collapsed": false
   },
   "outputs": [
    {
     "name": "stdout",
     "output_type": "stream",
     "text": [
      "1 19.2781578947\n",
      "2 17.9125211299\n",
      "3 17.1332362445\n",
      "4 16.7148496948\n",
      "5 17.8613784011\n",
      "6 18.100248565\n",
      "7 18.7488283109\n",
      "8 19.4128061923\n",
      "9 19.6483205898\n"
     ]
    }
   ],
   "source": [
    "search_range = np.arange(1, 10)\n",
    "for k in search_range:\n",
    "    regr = KNeighborsRegressor(n_neighbors=k, weights='distance')\n",
    "    regr.fit(X_train, y_train)\n",
    "    pred = regr.predict(X_test)\n",
    "    print k, metrics.mean_squared_error(y_test, pred)"
   ]
  },
  {
   "cell_type": "code",
   "execution_count": 32,
   "metadata": {
    "collapsed": true
   },
   "outputs": [],
   "source": [
    "from sklearn.cross_validation import ShuffleSplit, KFold, cross_val_score"
   ]
  },
  {
   "cell_type": "code",
   "execution_count": 33,
   "metadata": {
    "collapsed": false
   },
   "outputs": [
    {
     "name": "stdout",
     "output_type": "stream",
     "text": [
      "1 [ 43.68028169]\n",
      "2 [ 22.97340239]\n",
      "3 [ 27.31150744]\n",
      "4 [ 22.1946316]\n",
      "5 [ 20.82109244]\n",
      "6 [ 19.74250806]\n",
      "7 [ 19.67360257]\n",
      "8 [ 19.56727086]\n",
      "9 [ 19.91080292]\n"
     ]
    }
   ],
   "source": [
    "cv = ShuffleSplit(X_train.shape[0], n_iter=1, random_state=241, \n",
    "                  test_size=0.2)\n",
    "for k in search_range:\n",
    "    regr = KNeighborsRegressor(n_neighbors=k, weights='distance')\n",
    "    print k, -cross_val_score(regr, X_train, y_train, cv=cv, scoring='mean_squared_error')"
   ]
  },
  {
   "cell_type": "code",
   "execution_count": 34,
   "metadata": {
    "collapsed": true
   },
   "outputs": [],
   "source": [
    "def do_kfold(k):\n",
    "    cv = KFold(X_train.shape[0], n_folds=k, random_state=241)\n",
    "    scores_mean = []\n",
    "    scores_std = []\n",
    "    for k in search_range:\n",
    "        regr = KNeighborsRegressor(n_neighbors=k, weights='distance')\n",
    "        scores = -cross_val_score(regr, X_train, y_train, cv=cv, \n",
    "                                  scoring='mean_squared_error')\n",
    "        scores_mean.append(scores.mean())\n",
    "        scores_std.append(scores.std())\n",
    "        print k, scores.mean(), scores.std(), scores.mean() - scores.std()\n",
    "\n",
    "    x = search_range\n",
    "    scores_mean = np.array(scores_mean)\n",
    "    scores_std = np.array(scores_std)\n",
    "    plt.plot(x, scores_mean)\n",
    "    plt.fill_between(x, scores_mean - scores_std, scores_mean + scores_std, alpha=0.5)\n",
    "    plt.show()"
   ]
  },
  {
   "cell_type": "code",
   "execution_count": 35,
   "metadata": {
    "collapsed": false
   },
   "outputs": [
    {
     "name": "stdout",
     "output_type": "stream",
     "text": [
      "1 33.0191525424 12.8871186441 20.1320338983\n",
      "2 30.1733415945 14.4122918474 15.7610497471\n",
      "3 27.4812115805 10.1541623664 17.3270492142\n",
      "4 24.9904717126 8.33356757941 16.6569041332\n",
      "5 24.1133913965 6.87765586651 17.23573553\n",
      "6 23.1885162233 5.99718078168 17.1913354416\n",
      "7 23.5036346339 5.38967847096 18.113956163\n",
      "8 22.9928299698 4.65757553905 18.3352544308\n",
      "9 23.6054328046 4.05830579066 19.5471270139\n"
     ]
    },
    {
     "data": {
      "image/png": "[encoded data removed]",
      "text/plain": [
       "<matplotlib.figure.Figure at 0x109629690>"
      ]
     },
     "metadata": {},
     "output_type": "display_data"
    }
   ],
   "source": [
    "do_kfold(2)"
   ]
  },
  {
   "cell_type": "code",
   "execution_count": 36,
   "metadata": {
    "collapsed": false
   },
   "outputs": [
    {
     "name": "stdout",
     "output_type": "stream",
     "text": [
      "1 23.0580551308 5.40459186993 17.6534632609\n",
      "2 20.7939635662 6.048895779 14.7450677872\n",
      "3 21.5780588133 6.38262072243 15.1954380909\n",
      "4 21.0588092494 6.24066956288 14.8181396865\n",
      "5 21.5145173761 5.91018051983 15.6043368563\n",
      "6 21.4265735113 5.49709457285 15.9294789385\n",
      "7 21.6061847889 5.99087316727 15.6153116217\n",
      "8 21.2927410572 6.27281500468 15.0199260525\n",
      "9 21.219669424 6.53777549068 14.6818939333\n"
     ]
    },
    {
     "data": {
      "image/png": "[encoded data removed]",
      "text/plain": [
       "<matplotlib.figure.Figure at 0x109637950>"
      ]
     },
     "metadata": {},
     "output_type": "display_data"
    }
   ],
   "source": [
    "do_kfold(5)"
   ]
  },
  {
   "cell_type": "code",
   "execution_count": 37,
   "metadata": {
    "collapsed": false
   },
   "outputs": [
    {
     "name": "stdout",
     "output_type": "stream",
     "text": [
      "1 22.4199777778 11.1326311265 11.2873466512\n",
      "2 18.6586692394 11.0152549686 7.64341427081\n",
      "3 20.4406701436 11.9355353406 8.50513480308\n",
      "4 20.0440191647 10.6937087765 9.3503103882\n",
      "5 21.1453913227 10.4326662544 10.7127250683\n",
      "6 21.0197843444 10.2249513157 10.7948330287\n",
      "7 21.089601096 11.0030823851 10.086518711\n",
      "8 20.9872309108 10.8546133023 10.1326176085\n",
      "9 20.9826329307 11.1565075202 9.82612541051\n"
     ]
    },
    {
     "data": {
      "image/png": "[encoded data removed]",
      "text/plain": [
       "<matplotlib.figure.Figure at 0x109718c50>"
      ]
     },
     "metadata": {},
     "output_type": "display_data"
    }
   ],
   "source": [
    "do_kfold(10)"
   ]
  },
  {
   "cell_type": "code",
   "execution_count": 38,
   "metadata": {
    "collapsed": false
   },
   "outputs": [
    {
     "name": "stdout",
     "output_type": "stream",
     "text": [
      "1 21.1344 45.5477049701 -24.4133049701\n",
      "2 16.2763510016 30.1802553823 -13.9039043807\n",
      "3 16.2751162489 25.8744475592 -9.59933131036\n",
      "4 18.300704628 30.6165889586 -12.3158843306\n",
      "5 18.3071075128 28.3647048463 -10.0575973335\n",
      "6 19.3620066093 30.1821554778 -10.8201488685\n",
      "7 19.4597566257 30.3705054754 -10.9107488497\n",
      "8 19.4487296593 30.5750613789 -11.1263317196\n",
      "9 19.6268806149 30.7814245604 -11.1545439455\n"
     ]
    },
    {
     "data": {
      "image/png": "[encoded data removed]",
      "text/plain": [
       "<matplotlib.figure.Figure at 0x10974f310>"
      ]
     },
     "metadata": {},
     "output_type": "display_data"
    }
   ],
   "source": [
    "do_kfold(100)"
   ]
  },
  {
   "cell_type": "markdown",
   "metadata": {},
   "source": [
    "Чем больше фолдов, тем меньше объектов попадает в контроль, тем менее надежно по нему оценивается качество — дисперсия растет"
   ]
  },
  {
   "cell_type": "markdown",
   "metadata": {},
   "source": [
    "#### Другой датасет"
   ]
  },
  {
   "cell_type": "code",
   "execution_count": 39,
   "metadata": {
    "collapsed": false
   },
   "outputs": [],
   "source": [
    "data = pandas.read_csv('http://kdd.ics.uci.edu/databases/tic/ticdata2000.txt', sep='\\t', header=None)\n",
    "X_train, X_test, y_train, y_test = train_test_split(scale(data.iloc[:, 1:-1].astype(np.float)),\n",
    "                                                    data.iloc[:, -1],\n",
    "                                                    test_size=0.3)"
   ]
  },
  {
   "cell_type": "code",
   "execution_count": 40,
   "metadata": {
    "collapsed": true
   },
   "outputs": [],
   "source": [
    "from sklearn.neighbors import KNeighborsClassifier"
   ]
  },
  {
   "cell_type": "code",
   "execution_count": 41,
   "metadata": {
    "collapsed": false
   },
   "outputs": [
    {
     "name": "stdout",
     "output_type": "stream",
     "text": [
      "5 0.598696685238\n",
      "10 0.634100379231\n",
      "15 0.623873425722\n",
      "20 0.651326724098\n",
      "25 0.666972938808\n",
      "30 0.671962053467\n",
      "35 0.68625052671\n",
      "40 0.674756542909\n",
      "45 0.681922725783\n",
      "50 0.691582002903\n",
      "55 0.699699190037\n",
      "60 0.707558874479\n",
      "65 0.713633597079\n",
      "70 0.708384053561\n"
     ]
    }
   ],
   "source": [
    "search_range = np.arange(5, 71, 5)\n",
    "for k in search_range:\n",
    "    clf = KNeighborsClassifier(n_neighbors=k)\n",
    "    clf.fit(X_train, y_train)\n",
    "    pred = clf.predict_proba(X_test)[:, 1]\n",
    "    print k, metrics.roc_auc_score(y_test, pred)"
   ]
  },
  {
   "cell_type": "code",
   "execution_count": 42,
   "metadata": {
    "collapsed": true
   },
   "outputs": [],
   "source": [
    "from sklearn.cross_validation import StratifiedKFold, StratifiedShuffleSplit"
   ]
  },
  {
   "cell_type": "code",
   "execution_count": 43,
   "metadata": {
    "collapsed": false
   },
   "outputs": [
    {
     "name": "stdout",
     "output_type": "stream",
     "text": [
      "5 [ 0.60645027]\n",
      "10 [ 0.6314592]\n",
      "15 [ 0.62653961]\n",
      "20 [ 0.63010125]\n",
      "25 [ 0.66724836]\n",
      "30 [ 0.66712329]\n",
      "35 [ 0.68295414]\n",
      "40 [ 0.6971888]\n",
      "45 [ 0.70241215]\n",
      "50 [ 0.70303752]\n",
      "55 [ 0.712162]\n",
      "60 [ 0.7213103]\n",
      "65 [ 0.72335914]\n",
      "70 [ 0.72700417]\n"
     ]
    }
   ],
   "source": [
    "cv = StratifiedShuffleSplit(y_train, n_iter=1, random_state=241, test_size=0.3)\n",
    "for k in search_range:\n",
    "    clf = KNeighborsClassifier(n_neighbors=k)\n",
    "    print k, cross_val_score(clf, X_train, y_train, cv=cv, scoring='roc_auc')"
   ]
  },
  {
   "cell_type": "code",
   "execution_count": 44,
   "metadata": {
    "collapsed": true
   },
   "outputs": [],
   "source": [
    "def do_kfold(k):\n",
    "    cv = StratifiedKFold(y_train, n_folds=k, random_state=241)\n",
    "    scores_mean = []\n",
    "    scores_std = []\n",
    "    for k in search_range:\n",
    "        clf = KNeighborsClassifier(n_neighbors=k)\n",
    "        scores = cross_val_score(clf, X_train, y_train, cv=cv, scoring='roc_auc')\n",
    "        scores_mean.append(scores.mean())\n",
    "        scores_std.append(scores.std())\n",
    "        print k, scores.mean(), scores.std(), scores.mean() - scores.std()\n",
    "\n",
    "    x = search_range\n",
    "    scores_mean = np.array(scores_mean)\n",
    "    scores_std = np.array(scores_std)\n",
    "    plt.plot(x, scores_mean)\n",
    "    plt.fill_between(x, scores_mean - scores_std, scores_mean + scores_std, alpha=0.5)\n",
    "    plt.show()"
   ]
  },
  {
   "cell_type": "code",
   "execution_count": 45,
   "metadata": {
    "collapsed": false
   },
   "outputs": [
    {
     "name": "stdout",
     "output_type": "stream",
     "text": [
      "5 0.590719885046 0.0217925212653 0.56892736378\n",
      "10 0.630521067518 0.0229706673123 0.607550400205\n",
      "15 0.658206947833 0.0239369482615 0.634269999572\n",
      "20 0.653120933909 0.0125546538935 0.640566280015\n",
      "25 0.66814382711 0.00903112754255 0.659112699568\n",
      "30 0.667452025319 0.00768444410121 0.659767581218\n",
      "35 0.666080564441 0.0117510690851 0.654329495356\n",
      "40 0.669310567103 0.0187584119859 0.650552155117\n",
      "45 0.671927292874 0.0104754245355 0.661451868339\n",
      "50 0.678582305815 0.00692412835473 0.67165817746\n",
      "55 0.683261765923 0.0102403217594 0.673021444164\n",
      "60 0.684747467736 0.00704126562199 0.677706202114\n",
      "65 0.685459753288 0.00778351307945 0.677676240209\n",
      "70 0.68970362477 0.00770858988531 0.681995034884\n"
     ]
    },
    {
     "data": {
      "image/png": "[encoded data removed]",
      "text/plain": [
       "<matplotlib.figure.Figure at 0x109819890>"
      ]
     },
     "metadata": {},
     "output_type": "display_data"
    }
   ],
   "source": [
    "do_kfold(2)"
   ]
  },
  {
   "cell_type": "code",
   "execution_count": 46,
   "metadata": {
    "collapsed": false
   },
   "outputs": [
    {
     "name": "stdout",
     "output_type": "stream",
     "text": [
      "5 0.607885339543 0.0218755754382 0.586009764105\n",
      "10 0.638529409708 0.0285235282217 0.610005881486\n",
      "15 0.665106741436 0.0264038130672 0.638702928369\n",
      "20 0.671302649382 0.030755811425 0.640546837957\n",
      "25 0.677203661003 0.0284557249407 0.648747936062\n",
      "30 0.686163332294 0.0272008520083 0.658962480286\n",
      "35 0.687538549794 0.0364917960477 0.651046753746\n",
      "40 0.691324257865 0.0271505355904 0.664173722274\n",
      "45 0.701183930698 0.0300347110594 0.671149219639\n",
      "50 0.700274302436 0.0323029616037 0.667971340833\n",
      "55 0.695758203349 0.0308362323614 0.664921970988\n",
      "60 0.693969481722 0.0322374214117 0.66173206031\n",
      "65 0.696479760712 0.0348760130371 0.661603747674\n",
      "70 0.697831526491 0.0358697366516 0.66196178984\n"
     ]
    },
    {
     "data": {
      "image/png": "[encoded data removed]",
      "text/plain": [
       "<matplotlib.figure.Figure at 0x10970cc90>"
      ]
     },
     "metadata": {},
     "output_type": "display_data"
    }
   ],
   "source": [
    "do_kfold(5)"
   ]
  },
  {
   "cell_type": "code",
   "execution_count": 47,
   "metadata": {
    "collapsed": false
   },
   "outputs": [
    {
     "name": "stdout",
     "output_type": "stream",
     "text": [
      "5 0.602198487815 0.0425320125832 0.559666475232\n",
      "10 0.641632098564 0.0398891035372 0.601742995027\n",
      "15 0.663121926675 0.0548337512111 0.608288175464\n",
      "20 0.683314811793 0.0526592820359 0.630655529757\n",
      "25 0.677973604765 0.0511282889293 0.626845315836\n",
      "30 0.684798003699 0.0548630686737 0.629934935025\n",
      "35 0.692830572781 0.0566698089128 0.636160763868\n",
      "40 0.694685596171 0.0580272424004 0.63665835377\n",
      "45 0.703767569626 0.0526433744517 0.651124195174\n",
      "50 0.708092607702 0.0543202266387 0.653772381064\n",
      "55 0.707107416775 0.0533710469164 0.653736369859\n",
      "60 0.700678864774 0.0480761133332 0.652602751441\n",
      "65 0.700706932659 0.0511360322648 0.649570900394\n",
      "70 0.701674907528 0.0510008248511 0.650674082677\n"
     ]
    },
    {
     "data": {
      "image/png": "[encoded data removed]",
      "text/plain": [
       "<matplotlib.figure.Figure at 0x1066a1050>"
      ]
     },
     "metadata": {},
     "output_type": "display_data"
    }
   ],
   "source": [
    "do_kfold(10)"
   ]
  },
  {
   "cell_type": "markdown",
   "metadata": {},
   "source": [
    "# Отбор признаков"
   ]
  },
  {
   "cell_type": "markdown",
   "metadata": {},
   "source": [
    "В наших примерах мы будем работать с набором данных, содержащим информацию о случаях сахарного диабета среди индейцев Пима (Pima Indians diabetes). Все признаки являются числовыми, а задача представляет собой двухклассовую классификацию."
   ]
  },
  {
   "cell_type": "markdown",
   "metadata": {},
   "source": [
    "### Одномерный отбор признаков"
   ]
  },
  {
   "cell_type": "code",
   "execution_count": 49,
   "metadata": {
    "collapsed": false
   },
   "outputs": [
    {
     "data": {
      "text/html": [
       "<div>\n",
       "<table border=\"1\" class=\"dataframe\">\n",
       "  <thead>\n",
       "    <tr style=\"text-align: right;\">\n",
       "      <th></th>\n",
       "      <th>preg</th>\n",
       "      <th>plas</th>\n",
       "      <th>pres</th>\n",
       "      <th>skin</th>\n",
       "      <th>test</th>\n",
       "      <th>mass</th>\n",
       "      <th>pedi</th>\n",
       "      <th>age</th>\n",
       "      <th>class</th>\n",
       "    </tr>\n",
       "  </thead>\n",
       "  <tbody>\n",
       "    <tr>\n",
       "      <th>0</th>\n",
       "      <td>6</td>\n",
       "      <td>148</td>\n",
       "      <td>72</td>\n",
       "      <td>35</td>\n",
       "      <td>0</td>\n",
       "      <td>33.6</td>\n",
       "      <td>0.627</td>\n",
       "      <td>50</td>\n",
       "      <td>1</td>\n",
       "    </tr>\n",
       "    <tr>\n",
       "      <th>1</th>\n",
       "      <td>1</td>\n",
       "      <td>85</td>\n",
       "      <td>66</td>\n",
       "      <td>29</td>\n",
       "      <td>0</td>\n",
       "      <td>26.6</td>\n",
       "      <td>0.351</td>\n",
       "      <td>31</td>\n",
       "      <td>0</td>\n",
       "    </tr>\n",
       "    <tr>\n",
       "      <th>2</th>\n",
       "      <td>8</td>\n",
       "      <td>183</td>\n",
       "      <td>64</td>\n",
       "      <td>0</td>\n",
       "      <td>0</td>\n",
       "      <td>23.3</td>\n",
       "      <td>0.672</td>\n",
       "      <td>32</td>\n",
       "      <td>1</td>\n",
       "    </tr>\n",
       "    <tr>\n",
       "      <th>3</th>\n",
       "      <td>1</td>\n",
       "      <td>89</td>\n",
       "      <td>66</td>\n",
       "      <td>23</td>\n",
       "      <td>94</td>\n",
       "      <td>28.1</td>\n",
       "      <td>0.167</td>\n",
       "      <td>21</td>\n",
       "      <td>0</td>\n",
       "    </tr>\n",
       "    <tr>\n",
       "      <th>4</th>\n",
       "      <td>0</td>\n",
       "      <td>137</td>\n",
       "      <td>40</td>\n",
       "      <td>35</td>\n",
       "      <td>168</td>\n",
       "      <td>43.1</td>\n",
       "      <td>2.288</td>\n",
       "      <td>33</td>\n",
       "      <td>1</td>\n",
       "    </tr>\n",
       "  </tbody>\n",
       "</table>\n",
       "</div>"
      ],
      "text/plain": [
       "   preg  plas  pres  skin  test  mass   pedi  age  class\n",
       "0     6   148    72    35     0  33.6  0.627   50      1\n",
       "1     1    85    66    29     0  26.6  0.351   31      0\n",
       "2     8   183    64     0     0  23.3  0.672   32      1\n",
       "3     1    89    66    23    94  28.1  0.167   21      0\n",
       "4     0   137    40    35   168  43.1  2.288   33      1"
      ]
     },
     "execution_count": 49,
     "metadata": {},
     "output_type": "execute_result"
    }
   ],
   "source": [
    "from sklearn.feature_selection import SelectKBest\n",
    "from sklearn.feature_selection import chi2\n",
    "# load data\n",
    "url = \"https://archive.ics.uci.edu/ml/machine-learning-databases/pima-indians-diabetes/pima-indians-diabetes.data\"\n",
    "names = ['preg', 'plas', 'pres', 'skin', 'test', 'mass', 'pedi', 'age', 'class']\n",
    "dataframe = pandas.read_csv(url, names=names)\n",
    "array = dataframe.values\n",
    "X = array[:,0:8]\n",
    "Y = array[:,8]\n",
    "dataframe.head()"
   ]
  },
  {
   "cell_type": "markdown",
   "metadata": {},
   "source": [
    "В примере ниже используется критерий хи-квадрат (chi-squared test) для неотрицательных признаков, чтобы отобрать 4 лучших признака. Возможно использовать и другие критери. "
   ]
  },
  {
   "cell_type": "code",
   "execution_count": 50,
   "metadata": {
    "collapsed": false
   },
   "outputs": [
    {
     "name": "stdout",
     "output_type": "stream",
     "text": [
      "[  111.51969064  1411.88704064    17.60537322    53.10803984  2175.56527292\n",
      "   127.66934333     5.39268155   181.30368904]\n"
     ]
    }
   ],
   "source": [
    "# feature extraction\n",
    "\n",
    "test = SelectKBest(score_func=chi2, k=4)\n",
    "fit = test.fit(X, Y)\n",
    "\n",
    "# summarize scores\n",
    "\n",
    "print(fit.scores_)\n"
   ]
  },
  {
   "cell_type": "markdown",
   "metadata": {},
   "source": [
    "Мы видим оценки для каждого признака и 4 отобранных признака (с наивысшими оценками): plas, test, mass и age."
   ]
  },
  {
   "cell_type": "code",
   "execution_count": 51,
   "metadata": {
    "collapsed": false
   },
   "outputs": [
    {
     "name": "stdout",
     "output_type": "stream",
     "text": [
      "[[ 148.     0.    33.6   50. ]\n",
      " [  85.     0.    26.6   31. ]\n",
      " [ 183.     0.    23.3   32. ]\n",
      " ..., \n",
      " [ 121.   112.    26.2   30. ]\n",
      " [ 126.     0.    30.1   47. ]\n",
      " [  93.     0.    30.4   23. ]]\n"
     ]
    }
   ],
   "source": [
    "features = fit.transform(X)\n",
    "\n",
    "# summarize selected features\n",
    "\n",
    "print(features[:,:])"
   ]
  },
  {
   "cell_type": "markdown",
   "metadata": {},
   "source": [
    "### Рекурсивное исключение признаков (Del)"
   ]
  },
  {
   "cell_type": "code",
   "execution_count": 52,
   "metadata": {
    "collapsed": false
   },
   "outputs": [],
   "source": [
    "# Feature Extraction with RFE\n",
    "from pandas import read_csv\n",
    "from sklearn.feature_selection import RFE\n",
    "from sklearn.linear_model import LogisticRegression\n",
    "\n",
    "# load data\n",
    "\n",
    "url = \"https://archive.ics.uci.edu/ml/machine-learning-databases/pima-indians-diabetes/pima-indians-diabetes.data\"\n",
    "names = ['preg', 'plas', 'pres', 'skin', 'test', 'mass', 'pedi', 'age', 'class']\n",
    "dataframe = read_csv(url, names=names)\n",
    "array = dataframe.values\n",
    "X = array[:,0:8]\n",
    "Y = array[:,8]"
   ]
  },
  {
   "cell_type": "code",
   "execution_count": 53,
   "metadata": {
    "collapsed": false
   },
   "outputs": [
    {
     "name": "stdout",
     "output_type": "stream",
     "text": [
      "Num Features: 3\n",
      "Selected Features: [ True False False False False  True  True False]\n",
      "Feature Ranking: [1 2 3 5 6 1 1 4]\n"
     ]
    }
   ],
   "source": [
    "# feature extraction\n",
    "\n",
    "model = LogisticRegression()\n",
    "\n",
    "rfe = RFE(model, 3)\n",
    "\n",
    "fit = rfe.fit(X, Y)\n",
    "\n",
    "print(\"Num Features: %d\") % fit.n_features_\n",
    "\n",
    "print(\"Selected Features: %s\") % fit.support_\n",
    "\n",
    "print(\"Feature Ranking: %s\") % fit.ranking_"
   ]
  },
  {
   "cell_type": "markdown",
   "metadata": {},
   "source": [
    "Мы видим, что в результате были отобраны 3 лучших признака: preg, mass, pedi. Отобранные признаки помечены значением «True» в массиве support_ и значением «1» в массиве ranking_."
   ]
  },
  {
   "cell_type": "markdown",
   "metadata": {},
   "source": [
    "### Отбор на основе важности признаков"
   ]
  },
  {
   "cell_type": "markdown",
   "metadata": {},
   "source": [
    "Ансамблевые алгоритмы на основе деревьев решений, такие как случайный лес (random forest), позволяют оценить важность признаков."
   ]
  },
  {
   "cell_type": "code",
   "execution_count": 54,
   "metadata": {
    "collapsed": true
   },
   "outputs": [],
   "source": [
    "from sklearn.ensemble import ExtraTreesClassifier\n",
    "\n",
    "# load data\n",
    "url = \"https://archive.ics.uci.edu/ml/machine-learning-databases/pima-indians-diabetes/pima-indians-diabetes.data\"\n",
    "names = ['preg', 'plas', 'pres', 'skin', 'test', 'mass', 'pedi', 'age', 'class']\n",
    "dataframe = read_csv(url, names=names)\n",
    "array = dataframe.values\n",
    "X = array[:,0:8]\n",
    "Y = array[:,8]"
   ]
  },
  {
   "cell_type": "code",
   "execution_count": 55,
   "metadata": {
    "collapsed": false
   },
   "outputs": [
    {
     "name": "stdout",
     "output_type": "stream",
     "text": [
      "[ 0.11693595  0.23914711  0.08875792  0.0891933   0.07160288  0.14967823\n",
      "  0.12376978  0.12091485]\n"
     ]
    }
   ],
   "source": [
    "# feature extraction\n",
    "\n",
    "model = ExtraTreesClassifier()\n",
    "model.fit(X, Y)\n",
    "print(model.feature_importances_)"
   ]
  },
  {
   "cell_type": "markdown",
   "metadata": {},
   "source": [
    "### Метод главных компонент"
   ]
  },
  {
   "cell_type": "code",
   "execution_count": 56,
   "metadata": {
    "collapsed": true
   },
   "outputs": [],
   "source": [
    "from sklearn.decomposition import PCA\n",
    "\n",
    "# load data\n",
    "url = \"https://archive.ics.uci.edu/ml/machine-learning-databases/pima-indians-diabetes/pima-indians-diabetes.data\"\n",
    "names = ['preg', 'plas', 'pres', 'skin', 'test', 'mass', 'pedi', 'age', 'class']\n",
    "dataframe = read_csv(url, names=names)\n",
    "array = dataframe.values\n",
    "X = array[:,0:8]\n",
    "Y = array[:,8]"
   ]
  },
  {
   "cell_type": "code",
   "execution_count": 57,
   "metadata": {
    "collapsed": false
   },
   "outputs": [
    {
     "name": "stdout",
     "output_type": "stream",
     "text": [
      "Explained Variance: [ 0.88854663  0.06159078  0.02579012]\n",
      "[[-75.71465491  35.95078264  -7.26078895]\n",
      " [-82.3582676  -28.90821322  -5.49667139]\n",
      " [-74.63064344  67.90649647  19.46180812]\n",
      " ..., \n",
      " [ 32.11319827  -3.3766648   -1.58786446]\n",
      " [-80.21449431  14.18601977  12.3512639 ]\n",
      " [-81.30814972 -21.62149606  -8.15276833]]\n"
     ]
    }
   ],
   "source": [
    "# feature extraction\n",
    "\n",
    "pca = PCA(n_components=3)\n",
    "fit = pca.fit(X)\n",
    "features = fit.transform(X)\n",
    "\n",
    "# summarize components\n",
    "\n",
    "print(\"Explained Variance: %s\") % fit.explained_variance_ratio_\n",
    "print(features[:,:])"
   ]
  },
  {
   "cell_type": "markdown",
   "metadata": {},
   "source": [
    "### L1-регуляризация"
   ]
  },
  {
   "cell_type": "code",
   "execution_count": 58,
   "metadata": {
    "collapsed": false
   },
   "outputs": [
    {
     "data": {
      "text/plain": [
       "(768, 8)"
      ]
     },
     "execution_count": 58,
     "metadata": {},
     "output_type": "execute_result"
    }
   ],
   "source": [
    "from sklearn.svm import LinearSVC\n",
    "from sklearn.datasets import load_iris\n",
    "from sklearn.feature_selection import SelectFromModel\n",
    "# load data\n",
    "url = \"https://archive.ics.uci.edu/ml/machine-learning-databases/pima-indians-diabetes/pima-indians-diabetes.data\"\n",
    "names = ['preg', 'plas', 'pres', 'skin', 'test', 'mass', 'pedi', 'age', 'class']\n",
    "dataframe = read_csv(url, names=names)\n",
    "array = dataframe.values\n",
    "X = array[:,0:8]\n",
    "Y = array[:,8]\n",
    "X.shape"
   ]
  },
  {
   "cell_type": "code",
   "execution_count": 59,
   "metadata": {
    "collapsed": false
   },
   "outputs": [
    {
     "data": {
      "text/plain": [
       "(768, 5)"
      ]
     },
     "execution_count": 59,
     "metadata": {},
     "output_type": "execute_result"
    }
   ],
   "source": [
    "lsvc = LinearSVC(C=0.005, penalty=\"l1\", dual=False).fit(X, Y)\n",
    "model = SelectFromModel(lsvc, prefit=True)\n",
    "X_new = model.transform(X)\n",
    "X_new.shape"
   ]
  },
  {
   "cell_type": "code",
   "execution_count": null,
   "metadata": {
    "collapsed": true
   },
   "outputs": [],
   "source": []
  },
  {
   "cell_type": "code",
   "execution_count": null,
   "metadata": {
    "collapsed": true
   },
   "outputs": [],
   "source": []
  },
  {
   "cell_type": "code",
   "execution_count": null,
   "metadata": {
    "collapsed": true
   },
   "outputs": [],
   "source": []
  },
  {
   "cell_type": "code",
   "execution_count": null,
   "metadata": {
    "collapsed": true
   },
   "outputs": [],
   "source": []
  }
 ],
 "metadata": {
  "kernelspec": {
   "display_name": "Python 2",
   "language": "python",
   "name": "python2"
  },
  "language_info": {
   "codemirror_mode": {
    "name": "ipython",
    "version": 2
   },
   "file_extension": ".py",
   "mimetype": "text/x-python",
   "name": "python",
   "nbconvert_exporter": "python",
   "pygments_lexer": "ipython2",
   "version": "2.7.12"
  }
 },
 "nbformat": 4,
 "nbformat_minor": 0
}
