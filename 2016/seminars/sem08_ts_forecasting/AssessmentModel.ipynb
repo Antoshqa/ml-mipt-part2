{
 "cells": [
  {
   "cell_type": "markdown",
   "metadata": {},
   "source": [
    "## Outline\n",
    "* Здесь приводится пример задачи ML, в которой наглядно продемонстирована необходимость использования двухшаговой кроссвалидации для оценки (assessment) точности предсказания алгоритма ML"
   ]
  },
  {
   "cell_type": "code",
   "execution_count": 1,
   "metadata": {
    "collapsed": true
   },
   "outputs": [],
   "source": [
    "import numpy as np\n",
    "import pandas as pd\n",
    "\n",
    "%matplotlib inline"
   ]
  },
  {
   "cell_type": "markdown",
   "metadata": {},
   "source": [
    "## Данные"
   ]
  },
  {
   "cell_type": "code",
   "execution_count": 2,
   "metadata": {
    "collapsed": false
   },
   "outputs": [],
   "source": [
    "# Генерим случайный бинарный вектор длинф L, генерим d признаков из нормального стандартного распределения N(0,1)\n",
    "from random import SystemRandom, normalvariate\n",
    "\n",
    "L = 50\n",
    "d = 1000\n",
    "\n",
    "gen_train = pd.DataFrame.from_records([\n",
    "        [ SystemRandom().randint(0,1)]+ [normalvariate(0, 1) for j in range(d)] \n",
    "        for i in range(L)\n",
    "    ], columns = ['Label']+ ['F'+str(j)  for j in range(d)])"
   ]
  },
  {
   "cell_type": "code",
   "execution_count": 3,
   "metadata": {
    "collapsed": false
   },
   "outputs": [
    {
     "data": {
      "text/html": [
       "<div>\n",
       "<table border=\"1\" class=\"dataframe\">\n",
       "  <thead>\n",
       "    <tr style=\"text-align: right;\">\n",
       "      <th></th>\n",
       "      <th>Label</th>\n",
       "      <th>F0</th>\n",
       "      <th>F1</th>\n",
       "      <th>F2</th>\n",
       "      <th>F3</th>\n",
       "      <th>F4</th>\n",
       "      <th>F5</th>\n",
       "      <th>F6</th>\n",
       "      <th>F7</th>\n",
       "      <th>F8</th>\n",
       "      <th>...</th>\n",
       "      <th>F990</th>\n",
       "      <th>F991</th>\n",
       "      <th>F992</th>\n",
       "      <th>F993</th>\n",
       "      <th>F994</th>\n",
       "      <th>F995</th>\n",
       "      <th>F996</th>\n",
       "      <th>F997</th>\n",
       "      <th>F998</th>\n",
       "      <th>F999</th>\n",
       "    </tr>\n",
       "  </thead>\n",
       "  <tbody>\n",
       "    <tr>\n",
       "      <th>0</th>\n",
       "      <td>1</td>\n",
       "      <td>-0.511515</td>\n",
       "      <td>2.119177</td>\n",
       "      <td>-0.748062</td>\n",
       "      <td>0.729684</td>\n",
       "      <td>1.332743</td>\n",
       "      <td>0.986827</td>\n",
       "      <td>0.890493</td>\n",
       "      <td>-0.456214</td>\n",
       "      <td>0.839009</td>\n",
       "      <td>...</td>\n",
       "      <td>0.387067</td>\n",
       "      <td>0.522610</td>\n",
       "      <td>-0.002765</td>\n",
       "      <td>0.015575</td>\n",
       "      <td>-0.172271</td>\n",
       "      <td>-0.990329</td>\n",
       "      <td>1.199418</td>\n",
       "      <td>0.175333</td>\n",
       "      <td>-0.432216</td>\n",
       "      <td>0.764423</td>\n",
       "    </tr>\n",
       "    <tr>\n",
       "      <th>1</th>\n",
       "      <td>0</td>\n",
       "      <td>0.054382</td>\n",
       "      <td>-1.107001</td>\n",
       "      <td>-0.893974</td>\n",
       "      <td>0.847292</td>\n",
       "      <td>-0.215251</td>\n",
       "      <td>-0.723793</td>\n",
       "      <td>1.280805</td>\n",
       "      <td>0.939361</td>\n",
       "      <td>-0.529346</td>\n",
       "      <td>...</td>\n",
       "      <td>-0.316993</td>\n",
       "      <td>0.042734</td>\n",
       "      <td>1.160178</td>\n",
       "      <td>-0.119499</td>\n",
       "      <td>-1.649064</td>\n",
       "      <td>-1.834241</td>\n",
       "      <td>0.440387</td>\n",
       "      <td>-0.053930</td>\n",
       "      <td>-1.220722</td>\n",
       "      <td>-1.563664</td>\n",
       "    </tr>\n",
       "    <tr>\n",
       "      <th>2</th>\n",
       "      <td>1</td>\n",
       "      <td>-1.116156</td>\n",
       "      <td>1.028782</td>\n",
       "      <td>-0.626019</td>\n",
       "      <td>1.894904</td>\n",
       "      <td>-0.176052</td>\n",
       "      <td>-0.257307</td>\n",
       "      <td>-1.299473</td>\n",
       "      <td>-0.535440</td>\n",
       "      <td>-0.350891</td>\n",
       "      <td>...</td>\n",
       "      <td>0.560088</td>\n",
       "      <td>0.118678</td>\n",
       "      <td>-1.595316</td>\n",
       "      <td>0.773475</td>\n",
       "      <td>-1.720071</td>\n",
       "      <td>-1.721826</td>\n",
       "      <td>-1.628735</td>\n",
       "      <td>-1.078379</td>\n",
       "      <td>0.575825</td>\n",
       "      <td>0.746430</td>\n",
       "    </tr>\n",
       "    <tr>\n",
       "      <th>3</th>\n",
       "      <td>0</td>\n",
       "      <td>-0.585433</td>\n",
       "      <td>-1.078356</td>\n",
       "      <td>0.787877</td>\n",
       "      <td>-2.058594</td>\n",
       "      <td>-0.069635</td>\n",
       "      <td>-0.214437</td>\n",
       "      <td>0.558494</td>\n",
       "      <td>1.270771</td>\n",
       "      <td>0.588577</td>\n",
       "      <td>...</td>\n",
       "      <td>-1.134296</td>\n",
       "      <td>1.479579</td>\n",
       "      <td>1.908693</td>\n",
       "      <td>0.847967</td>\n",
       "      <td>1.031707</td>\n",
       "      <td>0.169772</td>\n",
       "      <td>-1.154398</td>\n",
       "      <td>-1.191920</td>\n",
       "      <td>0.253616</td>\n",
       "      <td>0.288210</td>\n",
       "    </tr>\n",
       "    <tr>\n",
       "      <th>4</th>\n",
       "      <td>1</td>\n",
       "      <td>1.896744</td>\n",
       "      <td>2.017348</td>\n",
       "      <td>-0.953660</td>\n",
       "      <td>-0.467967</td>\n",
       "      <td>-0.962713</td>\n",
       "      <td>1.433546</td>\n",
       "      <td>-0.119200</td>\n",
       "      <td>-0.054877</td>\n",
       "      <td>0.813040</td>\n",
       "      <td>...</td>\n",
       "      <td>0.006671</td>\n",
       "      <td>1.447931</td>\n",
       "      <td>-1.836601</td>\n",
       "      <td>0.522973</td>\n",
       "      <td>0.058050</td>\n",
       "      <td>0.733778</td>\n",
       "      <td>-0.844484</td>\n",
       "      <td>2.333115</td>\n",
       "      <td>-0.062266</td>\n",
       "      <td>-0.740313</td>\n",
       "    </tr>\n",
       "  </tbody>\n",
       "</table>\n",
       "<p>5 rows × 1001 columns</p>\n",
       "</div>"
      ],
      "text/plain": [
       "   Label        F0        F1        F2        F3        F4        F5  \\\n",
       "0      1 -0.511515  2.119177 -0.748062  0.729684  1.332743  0.986827   \n",
       "1      0  0.054382 -1.107001 -0.893974  0.847292 -0.215251 -0.723793   \n",
       "2      1 -1.116156  1.028782 -0.626019  1.894904 -0.176052 -0.257307   \n",
       "3      0 -0.585433 -1.078356  0.787877 -2.058594 -0.069635 -0.214437   \n",
       "4      1  1.896744  2.017348 -0.953660 -0.467967 -0.962713  1.433546   \n",
       "\n",
       "         F6        F7        F8    ...         F990      F991      F992  \\\n",
       "0  0.890493 -0.456214  0.839009    ...     0.387067  0.522610 -0.002765   \n",
       "1  1.280805  0.939361 -0.529346    ...    -0.316993  0.042734  1.160178   \n",
       "2 -1.299473 -0.535440 -0.350891    ...     0.560088  0.118678 -1.595316   \n",
       "3  0.558494  1.270771  0.588577    ...    -1.134296  1.479579  1.908693   \n",
       "4 -0.119200 -0.054877  0.813040    ...     0.006671  1.447931 -1.836601   \n",
       "\n",
       "       F993      F994      F995      F996      F997      F998      F999  \n",
       "0  0.015575 -0.172271 -0.990329  1.199418  0.175333 -0.432216  0.764423  \n",
       "1 -0.119499 -1.649064 -1.834241  0.440387 -0.053930 -1.220722 -1.563664  \n",
       "2  0.773475 -1.720071 -1.721826 -1.628735 -1.078379  0.575825  0.746430  \n",
       "3  0.847967  1.031707  0.169772 -1.154398 -1.191920  0.253616  0.288210  \n",
       "4  0.522973  0.058050  0.733778 -0.844484  2.333115 -0.062266 -0.740313  \n",
       "\n",
       "[5 rows x 1001 columns]"
      ]
     },
     "execution_count": 3,
     "metadata": {},
     "output_type": "execute_result"
    }
   ],
   "source": [
    "gen_train.head()"
   ]
  },
  {
   "cell_type": "code",
   "execution_count": 4,
   "metadata": {
    "collapsed": false
   },
   "outputs": [
    {
     "data": {
      "text/plain": [
       "Label\n",
       "0    27\n",
       "1    23\n",
       "Name: Label, dtype: int64"
      ]
     },
     "execution_count": 4,
     "metadata": {},
     "output_type": "execute_result"
    }
   ],
   "source": [
    "gen_train.groupby(['Label'])['Label'].count()"
   ]
  },
  {
   "cell_type": "code",
   "execution_count": 5,
   "metadata": {
    "collapsed": false
   },
   "outputs": [
    {
     "data": {
      "text/plain": [
       "<matplotlib.axes._subplots.AxesSubplot at 0x991ccc0>"
      ]
     },
     "execution_count": 5,
     "metadata": {},
     "output_type": "execute_result"
    },
    {
     "data": {
      "image/png": "[encoded data removed]",
      "text/plain": [
       "<matplotlib.figure.Figure at 0x991c358>"
      ]
     },
     "metadata": {},
     "output_type": "display_data"
    }
   ],
   "source": [
    "gen_train['F13'].hist()"
   ]
  },
  {
   "cell_type": "markdown",
   "metadata": {},
   "source": [
    "** Вопрос**\n",
    " - Какая максмальная точность классификации может быть достигнута на данном дата-сете?"
   ]
  },
  {
   "cell_type": "markdown",
   "metadata": {},
   "source": [
    "## Метод обучения: Decision Stump\\1-NN + q-Fold"
   ]
  },
  {
   "cell_type": "code",
   "execution_count": 6,
   "metadata": {
    "collapsed": false
   },
   "outputs": [],
   "source": [
    "from sklearn.tree import DecisionTreeClassifier\n",
    "from sklearn.neighbors import KNeighborsClassifier\n",
    "\n",
    "from sklearn.cross_validation import StratifiedKFold\n",
    "from sklearn.metrics import accuracy_score\n",
    "\n",
    "def qFold_accuracy(x,y, estimator, cv_strategy):\n",
    "    score = 0\n",
    "    for train_indices, test_indices in cv_strategy:\n",
    "        estimator.fit(x[train_indices], y[train_indices])\n",
    "        score += estimator.score(x[test_indices], y[test_indices])\n",
    "    return score/len(cv_strategy)"
   ]
  },
  {
   "cell_type": "code",
   "execution_count": 7,
   "metadata": {
    "collapsed": false
   },
   "outputs": [
    {
     "name": "stdout",
     "output_type": "stream",
     "text": [
      "('q-Fold score:', 0.80333333333333334)\n",
      "('The best feature No:', 272)\n"
     ]
    }
   ],
   "source": [
    "# Проводим эксперимент по нестройке классификатора, опирающегося на 1 признак\n",
    "max_score = 0\n",
    "f=0 \n",
    "cv_k = 10\n",
    "# kf = KFold(L,cv_k)                                 \n",
    "kf = StratifiedKFold(np.asarray(gen_train['Label']), cv_k, shuffle = True) \n",
    "for j in range(1,d+1):       # номер признака\n",
    "    #    print '\\n', '\\n' #, kf_1\n",
    "\n",
    "    scrrr  = qFold_accuracy(np.asarray(gen_train[[gen_train.columns[j]]]),np.asarray(gen_train[['Label']]).ravel(),KNeighborsClassifier(n_neighbors=1), kf)\n",
    "#    print i,\"-th feature = \",scrrr\n",
    "    if(scrrr > max_score):\n",
    "        max_score = scrrr\n",
    "        f = j-1\n",
    "print('q-Fold score:', max_score)\n",
    "print('The best feature No:', f)"
   ]
  },
  {
   "cell_type": "markdown",
   "metadata": {},
   "source": [
    "## Генерим Test Set для оценки точности алгоритма"
   ]
  },
  {
   "cell_type": "code",
   "execution_count": 8,
   "metadata": {
    "collapsed": false
   },
   "outputs": [],
   "source": [
    "# estimation set\n",
    "gen_test = pd.DataFrame.from_records([\n",
    "        [ SystemRandom().randint(0,1)]+ [normalvariate(0, 1) for j in range(1)] \n",
    "        for i in range(50)\n",
    "    ], columns = ['Label']+ ['F'+str(j)  for j in range(1)])"
   ]
  },
  {
   "cell_type": "markdown",
   "metadata": {},
   "source": [
    "## Оцениваем точность финального алгоритма на Estimation Set"
   ]
  },
  {
   "cell_type": "code",
   "execution_count": 9,
   "metadata": {
    "collapsed": false
   },
   "outputs": [
    {
     "name": "stdout",
     "output_type": "stream",
     "text": [
      "0.44\n"
     ]
    }
   ],
   "source": [
    "# True score on Test Set\n",
    "clf = DecisionTreeClassifier()\n",
    "clf.fit(np.asarray(gen_train[['F'+str(f)]]), np.asarray(gen_train[['Label']]))\n",
    "print(accuracy_score(clf.predict(np.asarray(gen_test[['F0']])), np.asarray(gen_test[['Label']])))"
   ]
  }
 ],
 "metadata": {
  "anaconda-cloud": {},
  "kernelspec": {
   "display_name": "Python [conda root]",
   "language": "python",
   "name": "conda-root-py"
  },
  "language_info": {
   "codemirror_mode": {
    "name": "ipython",
    "version": 2
   },
   "file_extension": ".py",
   "mimetype": "text/x-python",
   "name": "python",
   "nbconvert_exporter": "python",
   "pygments_lexer": "ipython2",
   "version": "2.7.12"
  }
 },
 "nbformat": 4,
 "nbformat_minor": 0
}
