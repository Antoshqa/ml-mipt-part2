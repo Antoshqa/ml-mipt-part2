{
 "cells": [
  {
   "cell_type": "markdown",
   "metadata": {},
   "source": [
    "## Outline\n",
    "* Здесь приводится пример задачи ML, в которой наглядно продемонстирована необходимость использования двухшаговой кроссвалидации для оценки (assessment) точности предсказания алгоритма ML"
   ]
  },
  {
   "cell_type": "code",
   "execution_count": 1,
   "metadata": {
    "collapsed": true
   },
   "outputs": [],
   "source": [
    "import numpy as np\n",
    "import pandas as pd\n",
    "\n",
    "%matplotlib inline"
   ]
  },
  {
   "cell_type": "markdown",
   "metadata": {},
   "source": [
    "## Данные"
   ]
  },
  {
   "cell_type": "code",
   "execution_count": 2,
   "metadata": {
    "collapsed": false
   },
   "outputs": [],
   "source": [
    "# Генерим случайный бинарный вектор длинф L, генерим d признаков из нормального стандартного распределения N(0,1)\n",
    "from random import SystemRandom, normalvariate\n",
    "\n",
    "L = 50\n",
    "d = 1000\n",
    "\n",
    "gen_train = pd.DataFrame.from_records([\n",
    "        [ SystemRandom().randint(0,1)]+ [normalvariate(0, 1) for j in range(d)] \n",
    "        for i in range(L)\n",
    "    ], columns = ['Label']+ ['F'+str(j)  for j in range(d)])"
   ]
  },
  {
   "cell_type": "code",
   "execution_count": 3,
   "metadata": {
    "collapsed": false
   },
   "outputs": [
    {
     "data": {
      "text/html": [
       "<div>\n",
       "<table border=\"1\" class=\"dataframe\">\n",
       "  <thead>\n",
       "    <tr style=\"text-align: right;\">\n",
       "      <th></th>\n",
       "      <th>Label</th>\n",
       "      <th>F0</th>\n",
       "      <th>F1</th>\n",
       "      <th>F2</th>\n",
       "      <th>F3</th>\n",
       "      <th>F4</th>\n",
       "      <th>F5</th>\n",
       "      <th>F6</th>\n",
       "      <th>F7</th>\n",
       "      <th>F8</th>\n",
       "      <th>...</th>\n",
       "      <th>F990</th>\n",
       "      <th>F991</th>\n",
       "      <th>F992</th>\n",
       "      <th>F993</th>\n",
       "      <th>F994</th>\n",
       "      <th>F995</th>\n",
       "      <th>F996</th>\n",
       "      <th>F997</th>\n",
       "      <th>F998</th>\n",
       "      <th>F999</th>\n",
       "    </tr>\n",
       "  </thead>\n",
       "  <tbody>\n",
       "    <tr>\n",
       "      <th>0</th>\n",
       "      <td>0</td>\n",
       "      <td>0.133441</td>\n",
       "      <td>0.323929</td>\n",
       "      <td>1.151031</td>\n",
       "      <td>0.370131</td>\n",
       "      <td>-1.210899</td>\n",
       "      <td>0.299238</td>\n",
       "      <td>0.147287</td>\n",
       "      <td>-1.356381</td>\n",
       "      <td>0.659751</td>\n",
       "      <td>...</td>\n",
       "      <td>-0.048953</td>\n",
       "      <td>-0.284164</td>\n",
       "      <td>0.110074</td>\n",
       "      <td>-0.385535</td>\n",
       "      <td>1.779334</td>\n",
       "      <td>-1.029517</td>\n",
       "      <td>0.332254</td>\n",
       "      <td>1.370187</td>\n",
       "      <td>0.378496</td>\n",
       "      <td>0.326821</td>\n",
       "    </tr>\n",
       "    <tr>\n",
       "      <th>1</th>\n",
       "      <td>1</td>\n",
       "      <td>0.927999</td>\n",
       "      <td>0.738369</td>\n",
       "      <td>-1.318650</td>\n",
       "      <td>-1.157384</td>\n",
       "      <td>-1.312895</td>\n",
       "      <td>-0.520024</td>\n",
       "      <td>-1.405671</td>\n",
       "      <td>-1.557055</td>\n",
       "      <td>1.673427</td>\n",
       "      <td>...</td>\n",
       "      <td>-0.501969</td>\n",
       "      <td>0.723022</td>\n",
       "      <td>-0.518079</td>\n",
       "      <td>-1.520135</td>\n",
       "      <td>0.807786</td>\n",
       "      <td>1.100347</td>\n",
       "      <td>0.694287</td>\n",
       "      <td>-0.918944</td>\n",
       "      <td>-0.150169</td>\n",
       "      <td>-0.617753</td>\n",
       "    </tr>\n",
       "    <tr>\n",
       "      <th>2</th>\n",
       "      <td>1</td>\n",
       "      <td>-0.596389</td>\n",
       "      <td>1.928563</td>\n",
       "      <td>1.038034</td>\n",
       "      <td>-1.442442</td>\n",
       "      <td>-0.324021</td>\n",
       "      <td>1.233531</td>\n",
       "      <td>0.219762</td>\n",
       "      <td>-1.881545</td>\n",
       "      <td>0.362055</td>\n",
       "      <td>...</td>\n",
       "      <td>0.499370</td>\n",
       "      <td>-0.300145</td>\n",
       "      <td>0.442602</td>\n",
       "      <td>0.161332</td>\n",
       "      <td>-0.104871</td>\n",
       "      <td>-0.465757</td>\n",
       "      <td>-0.891255</td>\n",
       "      <td>0.422372</td>\n",
       "      <td>0.069115</td>\n",
       "      <td>0.791895</td>\n",
       "    </tr>\n",
       "    <tr>\n",
       "      <th>3</th>\n",
       "      <td>1</td>\n",
       "      <td>-3.288346</td>\n",
       "      <td>1.811145</td>\n",
       "      <td>0.951596</td>\n",
       "      <td>0.828448</td>\n",
       "      <td>1.527800</td>\n",
       "      <td>1.181753</td>\n",
       "      <td>-2.043657</td>\n",
       "      <td>-0.446719</td>\n",
       "      <td>1.916242</td>\n",
       "      <td>...</td>\n",
       "      <td>-0.636638</td>\n",
       "      <td>-0.190428</td>\n",
       "      <td>0.224536</td>\n",
       "      <td>-0.767514</td>\n",
       "      <td>1.320138</td>\n",
       "      <td>-2.105155</td>\n",
       "      <td>-1.437391</td>\n",
       "      <td>-0.487838</td>\n",
       "      <td>-0.585650</td>\n",
       "      <td>1.271212</td>\n",
       "    </tr>\n",
       "    <tr>\n",
       "      <th>4</th>\n",
       "      <td>0</td>\n",
       "      <td>-0.984778</td>\n",
       "      <td>-1.340480</td>\n",
       "      <td>-1.182860</td>\n",
       "      <td>0.013299</td>\n",
       "      <td>-0.131392</td>\n",
       "      <td>1.549053</td>\n",
       "      <td>-0.325660</td>\n",
       "      <td>2.434903</td>\n",
       "      <td>-0.051814</td>\n",
       "      <td>...</td>\n",
       "      <td>1.262122</td>\n",
       "      <td>-0.061724</td>\n",
       "      <td>0.009630</td>\n",
       "      <td>-2.101094</td>\n",
       "      <td>0.543839</td>\n",
       "      <td>-0.306864</td>\n",
       "      <td>1.551867</td>\n",
       "      <td>-0.826922</td>\n",
       "      <td>-0.020731</td>\n",
       "      <td>-0.922780</td>\n",
       "    </tr>\n",
       "  </tbody>\n",
       "</table>\n",
       "<p>5 rows × 1001 columns</p>\n",
       "</div>"
      ],
      "text/plain": [
       "   Label        F0        F1        F2        F3        F4        F5  \\\n",
       "0      0  0.133441  0.323929  1.151031  0.370131 -1.210899  0.299238   \n",
       "1      1  0.927999  0.738369 -1.318650 -1.157384 -1.312895 -0.520024   \n",
       "2      1 -0.596389  1.928563  1.038034 -1.442442 -0.324021  1.233531   \n",
       "3      1 -3.288346  1.811145  0.951596  0.828448  1.527800  1.181753   \n",
       "4      0 -0.984778 -1.340480 -1.182860  0.013299 -0.131392  1.549053   \n",
       "\n",
       "         F6        F7        F8    ...         F990      F991      F992  \\\n",
       "0  0.147287 -1.356381  0.659751    ...    -0.048953 -0.284164  0.110074   \n",
       "1 -1.405671 -1.557055  1.673427    ...    -0.501969  0.723022 -0.518079   \n",
       "2  0.219762 -1.881545  0.362055    ...     0.499370 -0.300145  0.442602   \n",
       "3 -2.043657 -0.446719  1.916242    ...    -0.636638 -0.190428  0.224536   \n",
       "4 -0.325660  2.434903 -0.051814    ...     1.262122 -0.061724  0.009630   \n",
       "\n",
       "       F993      F994      F995      F996      F997      F998      F999  \n",
       "0 -0.385535  1.779334 -1.029517  0.332254  1.370187  0.378496  0.326821  \n",
       "1 -1.520135  0.807786  1.100347  0.694287 -0.918944 -0.150169 -0.617753  \n",
       "2  0.161332 -0.104871 -0.465757 -0.891255  0.422372  0.069115  0.791895  \n",
       "3 -0.767514  1.320138 -2.105155 -1.437391 -0.487838 -0.585650  1.271212  \n",
       "4 -2.101094  0.543839 -0.306864  1.551867 -0.826922 -0.020731 -0.922780  \n",
       "\n",
       "[5 rows x 1001 columns]"
      ]
     },
     "execution_count": 3,
     "metadata": {},
     "output_type": "execute_result"
    }
   ],
   "source": [
    "gen_train.head()"
   ]
  },
  {
   "cell_type": "code",
   "execution_count": 4,
   "metadata": {
    "collapsed": false
   },
   "outputs": [
    {
     "data": {
      "text/plain": [
       "Label\n",
       "0    19\n",
       "1    31\n",
       "Name: Label, dtype: int64"
      ]
     },
     "execution_count": 4,
     "metadata": {},
     "output_type": "execute_result"
    }
   ],
   "source": [
    "gen_train.groupby(['Label'])['Label'].count()"
   ]
  },
  {
   "cell_type": "code",
   "execution_count": 5,
   "metadata": {
    "collapsed": false
   },
   "outputs": [
    {
     "data": {
      "text/plain": [
       "<matplotlib.axes._subplots.AxesSubplot at 0x98dbd68>"
      ]
     },
     "execution_count": 5,
     "metadata": {},
     "output_type": "execute_result"
    },
    {
     "data": {
      "image/png": "[encoded data removed]",
      "text/plain": [
       "<matplotlib.figure.Figure at 0x98dba58>"
      ]
     },
     "metadata": {},
     "output_type": "display_data"
    }
   ],
   "source": [
    "gen_train['F13'].hist()"
   ]
  },
  {
   "cell_type": "markdown",
   "metadata": {},
   "source": [
    "** Вопрос**\n",
    " - Какая максмальная точность классификации может быть достигнута на данном дата-сете?"
   ]
  },
  {
   "cell_type": "markdown",
   "metadata": {},
   "source": [
    "## Метод обучения: Decision Stump\\1-NN + q-Fold"
   ]
  },
  {
   "cell_type": "code",
   "execution_count": null,
   "metadata": {
    "collapsed": false
   },
   "outputs": [],
   "source": [
    "from sklearn.tree import DecisionTreeClassifier\n",
    "from sklearn.neighbors import KNeighborsClassifier\n",
    "\n",
    "from sklearn.cross_validation import StratifiedKFold\n",
    "from sklearn.metrics import accuracy_score\n",
    "\n",
    "def qFold_accuracy(x,y, estimator, cv_strategy):\n",
    "    score = 0\n",
    "    for train_indices, test_indices in cv_strategy:\n",
    "        estimator.fit(x[train_indices], y[train_indices])\n",
    "        score += estimator.score(x[test_indices], y[test_indices])\n",
    "    return score/len(cv_strategy)"
   ]
  },
  {
   "cell_type": "code",
   "execution_count": null,
   "metadata": {
    "collapsed": false
   },
   "outputs": [],
   "source": [
    "# Проводим эксперимент по нестройке классификатора, опирающегося на 1 признак\n",
    "max_score = 0\n",
    "f=0 \n",
    "cv_k = 10\n",
    "# kf = KFold(L,cv_k)                                 \n",
    "kf = StratifiedKFold(np.asarray(gen_train['Label']), cv_k, shuffle = True) \n",
    "for j in range(1,d+1):       # номер признака\n",
    "    #    print '\\n', '\\n' #, kf_1\n",
    "\n",
    "    scrrr  = qFold_accuracy(np.asarray(gen_train[[gen_train.columns[j]]]),np.asarray(gen_train[['Label']]).ravel(),KNeighborsClassifier(n_neighbors=1), kf)\n",
    "#    print i,\"-th feature = \",scrrr\n",
    "    if(scrrr > max_score):\n",
    "        max_score = scrrr\n",
    "        f = j-1\n",
    "print('q-Fold score:', max_score)\n",
    "print('The best feature No:', f)"
   ]
  },
  {
   "cell_type": "markdown",
   "metadata": {},
   "source": [
    "## Генерим Estimation Set (test set, CV1)"
   ]
  },
  {
   "cell_type": "code",
   "execution_count": null,
   "metadata": {
    "collapsed": false
   },
   "outputs": [],
   "source": [
    "# estimation set\n",
    "gen_test = pd.DataFrame.from_records([\n",
    "        [ SystemRandom().randint(0,1)]+ [normalvariate(0, 1) for j in range(1)] \n",
    "        for i in range(50)\n",
    "    ], columns = ['Label']+ ['F'+str(j)  for j in range(1)])"
   ]
  },
  {
   "cell_type": "markdown",
   "metadata": {},
   "source": [
    "## Оцениваем точность финального алгоритма на Estimation Set"
   ]
  },
  {
   "cell_type": "code",
   "execution_count": null,
   "metadata": {
    "collapsed": false
   },
   "outputs": [],
   "source": [
    "# True score on Test Set\n",
    "clf = DecisionTreeClassifier()\n",
    "clf.fit(np.asarray(gen_train[['F'+str(f)]]), np.asarray(gen_train[['Label']]))\n",
    "print(accuracy_score(clf.predict(np.asarray(gen_test[['F0']])), np.asarray(gen_test[['Label']])))"
   ]
  }
 ],
 "metadata": {
  "anaconda-cloud": {},
  "kernelspec": {
   "display_name": "Python [conda root]",
   "language": "python",
   "name": "conda-root-py"
  },
  "language_info": {
   "codemirror_mode": {
    "name": "ipython",
    "version": 2
   },
   "file_extension": ".py",
   "mimetype": "text/x-python",
   "name": "python",
   "nbconvert_exporter": "python",
   "pygments_lexer": "ipython2",
   "version": "2.7.12"
  }
 },
 "nbformat": 4,
 "nbformat_minor": 0
}
