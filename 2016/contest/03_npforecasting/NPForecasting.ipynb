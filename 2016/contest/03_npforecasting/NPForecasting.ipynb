{
 "cells": [
  {
   "cell_type": "markdown",
   "metadata": {},
   "source": [
    "Imports\n",
    "======="
   ]
  },
  {
   "cell_type": "code",
   "execution_count": 1,
   "metadata": {
    "collapsed": false
   },
   "outputs": [],
   "source": [
    "import pandas as pd\n",
    "import numpy as np\n",
    "from random import shuffle\n",
    "from sklearn import tree\n",
    "from copy import deepcopy\n",
    "from sklearn.metrics import mean_squared_error as mse\n",
    "from sklearn.metrics import accuracy_score as acc\n",
    "from sklearn.ensemble import BaggingRegressor\n",
    "import matplotlib.pyplot as plt\n",
    "from sklearn.ensemble import RandomForestRegressor\n",
    "from sklearn.ensemble import ExtraTreesRegressor\n",
    "from sklearn.ensemble import GradientBoostingRegressor\n",
    "from sklearn import cross_validation\n",
    "from sklearn.linear_model import LinearRegression\n",
    "from scipy.optimize import minimize_scalar\n",
    "from copy import deepcopy\n",
    "%matplotlib inline"
   ]
  },
  {
   "cell_type": "markdown",
   "metadata": {},
   "source": [
    "Подготовка данных\n",
    "=================\n",
    "Делим выборку из *train.csv* на train и test в отношении 1:9"
   ]
  },
  {
   "cell_type": "code",
   "execution_count": 6,
   "metadata": {
    "collapsed": false
   },
   "outputs": [
    {
     "data": {
      "text/plain": [
       "(40000, 73)"
      ]
     },
     "execution_count": 6,
     "metadata": {},
     "output_type": "execute_result"
    }
   ],
   "source": [
    "# data = pd.read_csv('blogData_train.csv', header=None)\n",
    "data = pd.read_csv('train.csv', sep=';', index_col='ID')\n",
    "data.shape"
   ]
  },
  {
   "cell_type": "code",
   "execution_count": 7,
   "metadata": {
    "collapsed": false
   },
   "outputs": [
    {
     "data": {
      "text/html": [
       "<div>\n",
       "<table border=\"1\" class=\"dataframe\">\n",
       "  <thead>\n",
       "    <tr style=\"text-align: right;\">\n",
       "      <th></th>\n",
       "      <th>LOCATION_ID</th>\n",
       "      <th>MODEL_ID</th>\n",
       "      <th>MODEL_NAME</th>\n",
       "      <th>MODEL_OS</th>\n",
       "      <th>MODEL_TYPE</th>\n",
       "      <th>MODEL_BRAND</th>\n",
       "      <th>MODEL_COST_AVG</th>\n",
       "      <th>STORE_REGION</th>\n",
       "      <th>STORE_CITY</th>\n",
       "      <th>STORE_OPEN_DTTM</th>\n",
       "      <th>...</th>\n",
       "      <th>SPECTR_NONSMART_other_brands</th>\n",
       "      <th>SPECTR_NONSMART_samsung</th>\n",
       "      <th>SPECTR_NONSMART_mts</th>\n",
       "      <th>SPECTR_NONSMART_BIG</th>\n",
       "      <th>SPECTR_NONSMART_MEDIUM</th>\n",
       "      <th>SPECTR_NONSMART_SMALL</th>\n",
       "      <th>SPECTR_NONSMART_HD</th>\n",
       "      <th>SPECTR_NONSMART_LOW</th>\n",
       "      <th>SPECTR_NONSMART_GOOD</th>\n",
       "      <th>DEMAND</th>\n",
       "    </tr>\n",
       "    <tr>\n",
       "      <th>ID</th>\n",
       "      <th></th>\n",
       "      <th></th>\n",
       "      <th></th>\n",
       "      <th></th>\n",
       "      <th></th>\n",
       "      <th></th>\n",
       "      <th></th>\n",
       "      <th></th>\n",
       "      <th></th>\n",
       "      <th></th>\n",
       "      <th></th>\n",
       "      <th></th>\n",
       "      <th></th>\n",
       "      <th></th>\n",
       "      <th></th>\n",
       "      <th></th>\n",
       "      <th></th>\n",
       "      <th></th>\n",
       "      <th></th>\n",
       "      <th></th>\n",
       "      <th></th>\n",
       "    </tr>\n",
       "  </thead>\n",
       "  <tbody>\n",
       "    <tr>\n",
       "      <th>0</th>\n",
       "      <td>183783</td>\n",
       "      <td>3113</td>\n",
       "      <td>sony xperia e3 lte</td>\n",
       "      <td>gsm-and</td>\n",
       "      <td>смартфон</td>\n",
       "      <td>sony</td>\n",
       "      <td>6797.28</td>\n",
       "      <td>северо-запад</td>\n",
       "      <td>санкт-петербург г</td>\n",
       "      <td>07JUL11:00:00:00</td>\n",
       "      <td>...</td>\n",
       "      <td>0.79</td>\n",
       "      <td>1.00</td>\n",
       "      <td>0.0</td>\n",
       "      <td>0.0</td>\n",
       "      <td>0.86</td>\n",
       "      <td>0.89</td>\n",
       "      <td>0.0</td>\n",
       "      <td>0.87</td>\n",
       "      <td>0.0</td>\n",
       "      <td>0.032258</td>\n",
       "    </tr>\n",
       "    <tr>\n",
       "      <th>1</th>\n",
       "      <td>2022103615</td>\n",
       "      <td>480949</td>\n",
       "      <td>stark impress strong lte dual sim</td>\n",
       "      <td>gsm-and</td>\n",
       "      <td>смартфон</td>\n",
       "      <td>stark</td>\n",
       "      <td>6432.20</td>\n",
       "      <td>северо-запад</td>\n",
       "      <td>пушкин г</td>\n",
       "      <td>14APR16:00:00:00</td>\n",
       "      <td>...</td>\n",
       "      <td>0.48</td>\n",
       "      <td>1.00</td>\n",
       "      <td>NaN</td>\n",
       "      <td>0.0</td>\n",
       "      <td>0.40</td>\n",
       "      <td>0.86</td>\n",
       "      <td>0.0</td>\n",
       "      <td>0.62</td>\n",
       "      <td>NaN</td>\n",
       "      <td>0.000100</td>\n",
       "    </tr>\n",
       "    <tr>\n",
       "      <th>2</th>\n",
       "      <td>29792</td>\n",
       "      <td>1896</td>\n",
       "      <td>fly iq4490i</td>\n",
       "      <td>gsm-and</td>\n",
       "      <td>смартфон</td>\n",
       "      <td>fly</td>\n",
       "      <td>1885.04</td>\n",
       "      <td>поволжье</td>\n",
       "      <td>альметьевск г</td>\n",
       "      <td>29AUG09:00:00:00</td>\n",
       "      <td>...</td>\n",
       "      <td>0.63</td>\n",
       "      <td>0.70</td>\n",
       "      <td>0.0</td>\n",
       "      <td>0.0</td>\n",
       "      <td>0.65</td>\n",
       "      <td>0.67</td>\n",
       "      <td>0.0</td>\n",
       "      <td>0.66</td>\n",
       "      <td>0.0</td>\n",
       "      <td>0.048790</td>\n",
       "    </tr>\n",
       "    <tr>\n",
       "      <th>3</th>\n",
       "      <td>28438</td>\n",
       "      <td>264322</td>\n",
       "      <td>texet tm-224</td>\n",
       "      <td>gsm без ос</td>\n",
       "      <td>не смартфон</td>\n",
       "      <td>texet</td>\n",
       "      <td>1144.40</td>\n",
       "      <td>северо-запад</td>\n",
       "      <td>пушкин г</td>\n",
       "      <td>20OCT09:00:00:00</td>\n",
       "      <td>...</td>\n",
       "      <td>0.53</td>\n",
       "      <td>0.50</td>\n",
       "      <td>0.0</td>\n",
       "      <td>0.0</td>\n",
       "      <td>0.48</td>\n",
       "      <td>0.67</td>\n",
       "      <td>0.0</td>\n",
       "      <td>0.57</td>\n",
       "      <td>0.0</td>\n",
       "      <td>0.000100</td>\n",
       "    </tr>\n",
       "    <tr>\n",
       "      <th>4</th>\n",
       "      <td>28590</td>\n",
       "      <td>9086</td>\n",
       "      <td>ark benefit a1</td>\n",
       "      <td>gsm-and</td>\n",
       "      <td>смартфон</td>\n",
       "      <td>ark</td>\n",
       "      <td>3235.54</td>\n",
       "      <td>северо-запад</td>\n",
       "      <td>санкт-петербург г</td>\n",
       "      <td>07JUL09:00:00:00</td>\n",
       "      <td>...</td>\n",
       "      <td>0.50</td>\n",
       "      <td>0.73</td>\n",
       "      <td>0.0</td>\n",
       "      <td>0.0</td>\n",
       "      <td>0.62</td>\n",
       "      <td>0.56</td>\n",
       "      <td>0.0</td>\n",
       "      <td>0.60</td>\n",
       "      <td>0.0</td>\n",
       "      <td>0.000100</td>\n",
       "    </tr>\n",
       "  </tbody>\n",
       "</table>\n",
       "<p>5 rows × 73 columns</p>\n",
       "</div>"
      ],
      "text/plain": [
       "    LOCATION_ID  MODEL_ID                         MODEL_NAME    MODEL_OS  \\\n",
       "ID                                                                         \n",
       "0        183783      3113                 sony xperia e3 lte     gsm-and   \n",
       "1    2022103615    480949  stark impress strong lte dual sim     gsm-and   \n",
       "2         29792      1896                        fly iq4490i     gsm-and   \n",
       "3         28438    264322                       texet tm-224  gsm без ос   \n",
       "4         28590      9086                     ark benefit a1     gsm-and   \n",
       "\n",
       "     MODEL_TYPE MODEL_BRAND  MODEL_COST_AVG  STORE_REGION         STORE_CITY  \\\n",
       "ID                                                                             \n",
       "0      смартфон        sony         6797.28  северо-запад  санкт-петербург г   \n",
       "1      смартфон       stark         6432.20  северо-запад           пушкин г   \n",
       "2      смартфон         fly         1885.04      поволжье      альметьевск г   \n",
       "3   не смартфон       texet         1144.40  северо-запад           пушкин г   \n",
       "4      смартфон         ark         3235.54  северо-запад  санкт-петербург г   \n",
       "\n",
       "     STORE_OPEN_DTTM    ...    SPECTR_NONSMART_other_brands  \\\n",
       "ID                      ...                                   \n",
       "0   07JUL11:00:00:00    ...                            0.79   \n",
       "1   14APR16:00:00:00    ...                            0.48   \n",
       "2   29AUG09:00:00:00    ...                            0.63   \n",
       "3   20OCT09:00:00:00    ...                            0.53   \n",
       "4   07JUL09:00:00:00    ...                            0.50   \n",
       "\n",
       "   SPECTR_NONSMART_samsung SPECTR_NONSMART_mts SPECTR_NONSMART_BIG  \\\n",
       "ID                                                                   \n",
       "0                     1.00                 0.0                 0.0   \n",
       "1                     1.00                 NaN                 0.0   \n",
       "2                     0.70                 0.0                 0.0   \n",
       "3                     0.50                 0.0                 0.0   \n",
       "4                     0.73                 0.0                 0.0   \n",
       "\n",
       "   SPECTR_NONSMART_MEDIUM SPECTR_NONSMART_SMALL SPECTR_NONSMART_HD  \\\n",
       "ID                                                                   \n",
       "0                    0.86                  0.89                0.0   \n",
       "1                    0.40                  0.86                0.0   \n",
       "2                    0.65                  0.67                0.0   \n",
       "3                    0.48                  0.67                0.0   \n",
       "4                    0.62                  0.56                0.0   \n",
       "\n",
       "   SPECTR_NONSMART_LOW SPECTR_NONSMART_GOOD    DEMAND  \n",
       "ID                                                     \n",
       "0                 0.87                  0.0  0.032258  \n",
       "1                 0.62                  NaN  0.000100  \n",
       "2                 0.66                  0.0  0.048790  \n",
       "3                 0.57                  0.0  0.000100  \n",
       "4                 0.60                  0.0  0.000100  \n",
       "\n",
       "[5 rows x 73 columns]"
      ]
     },
     "execution_count": 7,
     "metadata": {},
     "output_type": "execute_result"
    }
   ],
   "source": [
    "# Посмотрим на данные\n",
    "data.head()"
   ]
  },
  {
   "cell_type": "code",
   "execution_count": 10,
   "metadata": {
    "collapsed": false
   },
   "outputs": [
    {
     "data": {
      "text/plain": [
       "Index([u'MODEL_NAME', u'MODEL_OS', u'MODEL_TYPE', u'MODEL_BRAND',\n",
       "       u'STORE_REGION', u'STORE_CITY', u'STORE_OPEN_DTTM', u'STORE_FORMAT',\n",
       "       u'STORE_BUILDING_TYPE', u'STORE_ADDRESS_LINE', u'STORE_GPS',\n",
       "       u'STORE_PRICE_TYPE', u'ABC_SMART_WHITE', u'ABC_SMART_BLACK',\n",
       "       u'ABC_SMART_COLORED', u'ABC_SMART_alcatel', u'ABC_SMART_other_brands',\n",
       "       u'ABC_SMART_samsung', u'ABC_SMART_мтс', u'ABC_SMART_RES_HD',\n",
       "       u'ABC_SMART_RES_LOW', u'ABC_SMART_DIAG_BIG', u'ABC_SMART_DIAG_MEDIUM',\n",
       "       u'ABC_NONSMART_WHITE', u'ABC_NONSMART_BLACK', u'ABC_NONSMART_COLORED',\n",
       "       u'ABC_NONSMART_alcatel', u'ABC_NONSMART_other_brands',\n",
       "       u'ABC_NONSMART_samsung', u'ABC_NONSMART_RES_LOW',\n",
       "       u'ABC_NONSMART_DIAG_MEDIUM', u'ABC_NONSMART_DIAG_SMALL'],\n",
       "      dtype='object')"
      ]
     },
     "execution_count": 10,
     "metadata": {},
     "output_type": "execute_result"
    }
   ],
   "source": [
    "# Categorical columns\n",
    "Cathegorical_columns = data.columns[[isinstance(z, str) for z in data.ix[0]]]\n",
    "Cathegorical_columns"
   ]
  },
  {
   "cell_type": "code",
   "execution_count": 9,
   "metadata": {
    "collapsed": false
   },
   "outputs": [
    {
     "name": "stdout",
     "output_type": "stream",
     "text": [
      "[[456   5   2  33   5  36 246  10   3 354 359  20   4   4   4   4   4   4\n",
      "    4   4   4   4   4   4   4   4   4   4   4   4   4   4]]\n",
      "Количество уникальных категориальных значений: [1609]\n",
      "Удаляем признаки с номерами: \n",
      "   index    0\n",
      "0      0  456\n",
      "1      6  246\n",
      "2      9  354\n",
      "3     10  359\n"
     ]
    }
   ],
   "source": [
    "# # Количество уникальных значений в категориальных признаках\n",
    "data['fict'] = [1]*data.shape[0]\n",
    "a = data.groupby('fict')\n",
    "dist_val = pd.DataFrame([np.int(a[z].apply(lambda x: len(x.unique()))) for z in Cathegorical_columns])\n",
    "print(dist_val.values.T)\n",
    "print('Количество уникальных категориальных значений: '+ str(dist_val.sum().values))\n",
    "print('Удаляем признаки с номерами: \\n'+ str(dist_val.ix[dist_val[0]>100].reset_index()))\n",
    "data.drop('fict',axis = 1, inplace=True)\n",
    "# list(dist_val)[[0,1]]"
   ]
  },
  {
   "cell_type": "code",
   "execution_count": 5,
   "metadata": {
    "collapsed": true
   },
   "outputs": [],
   "source": [
    "# Delete Categorical columns\n",
    "data.drop(Cathegorical_columns[[7,14,17]], axis = 1, inplace=True)\n",
    "data = data.fillna(-2)\n",
    "Cathegorical_columns = Cathegorical_columns.drop(Cathegorical_columns[[7,14,17]])"
   ]
  },
  {
   "cell_type": "markdown",
   "metadata": {},
   "source": [
    "## Исследование категориальных признаков "
   ]
  },
  {
   "cell_type": "code",
   "execution_count": 21,
   "metadata": {
    "collapsed": false
   },
   "outputs": [
    {
     "data": {
      "text/html": [
       "<div>\n",
       "<table border=\"1\" class=\"dataframe\">\n",
       "  <thead>\n",
       "    <tr style=\"text-align: right;\">\n",
       "      <th></th>\n",
       "      <th>x10</th>\n",
       "      <th>x18</th>\n",
       "      <th>x21</th>\n",
       "      <th>y</th>\n",
       "    </tr>\n",
       "  </thead>\n",
       "  <tbody>\n",
       "    <tr>\n",
       "      <th>0</th>\n",
       "      <td>e5df3eff9b</td>\n",
       "      <td>634e3cf3ac</td>\n",
       "      <td>513a3e3f36</td>\n",
       "      <td>2</td>\n",
       "    </tr>\n",
       "    <tr>\n",
       "      <th>1</th>\n",
       "      <td>fa0b797a92</td>\n",
       "      <td>bb20e1ca06</td>\n",
       "      <td>992153ed65</td>\n",
       "      <td>4</td>\n",
       "    </tr>\n",
       "    <tr>\n",
       "      <th>2</th>\n",
       "      <td>152af2cb2f</td>\n",
       "      <td>ee3501282b</td>\n",
       "      <td>5c5025bd0a</td>\n",
       "      <td>3</td>\n",
       "    </tr>\n",
       "    <tr>\n",
       "      <th>3</th>\n",
       "      <td>c4dd2197c3</td>\n",
       "      <td>9e166b965d</td>\n",
       "      <td>acfadc5c01</td>\n",
       "      <td>4</td>\n",
       "    </tr>\n",
       "    <tr>\n",
       "      <th>4</th>\n",
       "      <td>e071d01df5</td>\n",
       "      <td>527b6ca8cc</td>\n",
       "      <td>0fc56ea1f0</td>\n",
       "      <td>3</td>\n",
       "    </tr>\n",
       "  </tbody>\n",
       "</table>\n",
       "</div>"
      ],
      "text/plain": [
       "          x10         x18         x21  y\n",
       "0  e5df3eff9b  634e3cf3ac  513a3e3f36  2\n",
       "1  fa0b797a92  bb20e1ca06  992153ed65  4\n",
       "2  152af2cb2f  ee3501282b  5c5025bd0a  3\n",
       "3  c4dd2197c3  9e166b965d  acfadc5c01  4\n",
       "4  e071d01df5  527b6ca8cc  0fc56ea1f0  3"
      ]
     },
     "execution_count": 21,
     "metadata": {},
     "output_type": "execute_result"
    }
   ],
   "source": [
    "data_copy[['MODEL_TYPE', 'MODEL_BRAND', 'STORE_GPS']].head()"
   ]
  },
  {
   "cell_type": "code",
   "execution_count": 7,
   "metadata": {
    "collapsed": true
   },
   "outputs": [],
   "source": [
    "# Delete Categorical columns\n",
    "data.drop(Cathegorical_columns[[7,14,17]], axis = 1, inplace=True)\n",
    "data = data.fillna(-2)\n",
    "data.shape\n",
    "Cathegorical_columns = Cathegorical_columns.drop(Cathegorical_columns[[7,14,17]])"
   ]
  },
  {
   "cell_type": "markdown",
   "metadata": {},
   "source": [
    "## Предсказание без категориальных признаков\n",
    "## Вспомогательные функции"
   ]
  },
  {
   "cell_type": "code",
   "execution_count": 5,
   "metadata": {
    "collapsed": true
   },
   "outputs": [],
   "source": [
    "def get_numerated_data(df, categorical_columns):\n",
    "    simple_df = deepcopy(df)\n",
    "    for column in categorical_columns:\n",
    "        simple_df[column] = pd.Categorical.from_array(simple_df[column]).labels\n",
    "    \n",
    "    return simple_df\n",
    "\n",
    "def get_binarized_data(df, categorical_columns):\n",
    "    binary_df = deepcopy(df)\n",
    "    for column in categorical_columns:\n",
    "        binary_df = pd.concat([binary_df, pd.get_dummies(binary_df[column], prefix=column, prefix_sep=': ')], axis=1)\n",
    "        del binary_df[column]\n",
    "    \n",
    "    return binary_df\n",
    "\n",
    "def split_to_numpy(df, y_column_name):\n",
    "    #print df\n",
    "    #print y_column_name\n",
    "    data_x = df.drop(y_column_name, axis=1).values.astype(np.float32)\n",
    "    data_y = df[y_column_name].values.astype(np.float32)\n",
    "    column_names = df.drop(y_column_name, axis=1).columns\n",
    "    \n",
    "    return data_x, data_y, column_names\n",
    "\n",
    "def split_train_test(df, test_size=0.5, random_state=42, y_column_name='y'):\n",
    "    X = np.asarray(df.drop(y_column_name, axis=1))\n",
    "    y = np.asarray(df[y_column_name]).ravel()\n",
    "    trainX, testX, trainY, testY = cross_validation.train_test_split(X, y, test_size=test_size, random_state=42)\n",
    "    return trainX, testX, trainY, testY"
   ]
  },
  {
   "cell_type": "markdown",
   "metadata": {},
   "source": [
    "### Необходимые функции"
   ]
  },
  {
   "cell_type": "code",
   "execution_count": 33,
   "metadata": {
    "collapsed": false
   },
   "outputs": [],
   "source": [
    "def show_plot(n_est, res, title=\"\", ylabel=\"mse\"):\n",
    "    fig, ax = plt.subplots()\n",
    "    ax.plot(n_est, [res[x][1] for x in n_est], 'ro')\n",
    "#     ax.set_xlim((np.min(n_est) - 10, np.max(n_est) + 10))\n",
    "#     plt.xlabel(\"n_estimators\")\n",
    "#     plt.ylabel(ylabel)\n",
    "#     plt.title(\"Test result\")\n",
    "#     plt.show()\n",
    "    \n",
    "#     fig, ax = plt.subplots()\n",
    "    ax.plot(n_est, [res[x][0] for x in n_est], 'bo')\n",
    "    ax.set_xlim((np.min(n_est) - 10, np.max(n_est) + 10))\n",
    "    plt.xlabel(\"n_estimators\")\n",
    "    plt.ylabel(\"mse\")\n",
    "    plt.title(title)\n",
    "    plt.show()\n",
    "\n",
    "def round_predict(predict, min_val=0, max_val = 6):\n",
    "    return np.array([min_val if x < min_val else x for x in [max_val if x>max_val else x for x in np.rint(predict)]]).astype(int)\n",
    "\n",
    "def get_results_baggind_rsm(n_est, max_samples, max_features, verbose=True):\n",
    "    results = dict()\n",
    "    for i in n_est:\n",
    "        reg = BaggingRegressor(n_estimators=i,\n",
    "                          max_samples=max_samples, max_features=max_features, random_state=1234, n_jobs=-1, verbose=0)\n",
    "        reg.fit(trainX, trainY)\n",
    "#         results[i] = (mse(reg.predict(trainX), trainY), mse(reg.predict(testX), testY))\n",
    "        predict = reg.predict(testX)\n",
    "        results[i] = (acc(round_predict(reg.predict(trainX)), trainY), acc(round_predict(predict), testY))\n",
    "        if verbose:\n",
    "            print(\"Count of estimators: \" + str(i) + \", score: \" + str(results[i][1]))\n",
    "    return results\n",
    "\n",
    "def get_results_rf(n_est, oob=False, verbose=True):\n",
    "    results = dict()\n",
    "    for i in n_est:\n",
    "        reg = RandomForestRegressor(n_estimators=i, n_jobs=-1, random_state=1234, verbose=0,\n",
    "                                    oob_score=oob, max_features='sqrt')\n",
    "        reg.fit(trainX, trainY)\n",
    "        predict = reg.predict(testX)\n",
    "        if oob:\n",
    "            results[i] = (reg.oob_score_, mse(predict, testY))\n",
    "        else:\n",
    "#             results[i] = (mse(reg.predict(trainX), trainY), mse(reg.predict(testX), testY))\n",
    "            results[i] = (acc(round_predict(reg.predict(trainX)), trainY), acc(round_predict(predict), testY))\n",
    "        if verbose:\n",
    "            print(\"Count of estimators: \" + str(i) + \", score: \" + str(results[i][1]))\n",
    "    return results\n",
    "\n",
    "def get_results_erte(n_est, verbose=True):\n",
    "    results = dict()\n",
    "    for i in n_est:\n",
    "        reg = ExtraTreesRegressor(n_estimators=i, n_jobs=-1, random_state=1234, verbose=0)\n",
    "        reg.fit(trainX, trainY)\n",
    "#         results[i] = (mse(reg.predict(trainX), trainY), mse(reg.predict(testX), testY))\n",
    "        predict = reg.predict(testX)\n",
    "        results[i] = (acc(round_predict(reg.predict(trainX)), trainY), acc(round_predict(predict), testY))\n",
    "        if verbose:\n",
    "            print(\"Count of estimators: \" + str(i) + \", score: \" + str(results[i][1]))\n",
    "    return results\n",
    "\n",
    "def get_results_gbdt(n_est, verbose=True, init=None):\n",
    "    results = dict()\n",
    "    for i in n_est:\n",
    "        if init is not None:\n",
    "            reg = GradientBoostingRegressor(n_estimators=i, random_state=1234, verbose=0, init=init)\n",
    "        else:\n",
    "            reg = GradientBoostingRegressor(n_estimators=i, random_state=1234, verbose=0)\n",
    "        reg.fit(trainX, trainY)\n",
    "#         results[i] = (mse(reg.predict(trainX), trainY), mse(reg.predict(testX), testY))\n",
    "        predict = reg.predict(testX)\n",
    "        results[i] = (acc(round_predict(reg.predict(trainX)), trainY), acc(round_predict(predict), testY))\n",
    "        if verbose:\n",
    "            print(\"Count of estimators: \" + str(i) + \", score: \" + str(results[i][1]))    \n",
    "    return results\n",
    "\n",
    "def get_optimal(results):\n",
    "    results = sorted(results, key=lambda x: x[1])"
   ]
  },
  {
   "cell_type": "markdown",
   "metadata": {},
   "source": [
    "## Bagging and RSM\n",
    "\n",
    "Строим зависимость SMAPE на train и test от количества базовых алгоритмов. Количество базовых алгоритмов берется из диапазона (10, 200), как можно видеть на графиках ниже, ошибка на train в таком диапазоне стабилизируется."
   ]
  },
  {
   "cell_type": "code",
   "execution_count": 15,
   "metadata": {
    "collapsed": false
   },
   "outputs": [],
   "source": [
    "bin_data = get_binarized_data(data, Cathegorical_columns)\n",
    "trainX, testX, trainY, testY = split_train_test(df = bin_data, test_size=0.5)"
   ]
  },
  {
   "cell_type": "markdown",
   "metadata": {},
   "source": [
    "### #1\n",
    "**Bagging:** 0.8 от размера тестовой выборки.\n",
    "\n",
    "**RSM:** 0.8 от размера тестовой выборки."
   ]
  },
  {
   "cell_type": "code",
   "execution_count": 22,
   "metadata": {
    "collapsed": false
   },
   "outputs": [],
   "source": [
    "n_est = range(10, 150, 10)\n",
    "%time results = get_results_baggind_rsm(n_est, 0.5, 0.75, verbose=True)\n",
    "show_plot(n_est, results)"
   ]
  },
  {
   "cell_type": "markdown",
   "metadata": {},
   "source": [
    "## Random Forest\n",
    "Строим зависимость SMAPE на train и test от количества базовых алгоритмов. Количество базовых алгоритмов берется из диапазона (10, 200)."
   ]
  },
  {
   "cell_type": "code",
   "execution_count": 23,
   "metadata": {
    "collapsed": false
   },
   "outputs": [],
   "source": [
    "# n_est = range(10, 150, 10)\n",
    "# %time results = get_results_rf(n_est)\n",
    "# show_plot(n_est, results)"
   ]
  },
  {
   "cell_type": "markdown",
   "metadata": {},
   "source": [
    "## Extremely Randomized Trees Ensemble\n",
    "Строим зависимость SMAPE на train и test от количества базовых алгоритмов. Количество базовых алгоритмов берется из диапазона (10, 200)."
   ]
  },
  {
   "cell_type": "code",
   "execution_count": 25,
   "metadata": {
    "collapsed": false
   },
   "outputs": [],
   "source": [
    "# %time results = get_results_erte(n_est)\n",
    "# show_plot(n_est, results)"
   ]
  },
  {
   "cell_type": "markdown",
   "metadata": {},
   "source": [
    "## Gradient Boosted Decision Trees\n",
    "Строим зависимость SMAPE на train и test от количества базовых алгоритмов. Количество базовых алгоритмов берется из диапазона (10, 200)."
   ]
  },
  {
   "cell_type": "code",
   "execution_count": 26,
   "metadata": {
    "collapsed": false
   },
   "outputs": [],
   "source": [
    "# %time results = get_results_gbdt(n_est)\n",
    "# show_plot(n_est, results)"
   ]
  },
  {
   "cell_type": "markdown",
   "metadata": {},
   "source": [
    "## Вывод\n",
    "?"
   ]
  },
  {
   "cell_type": "markdown",
   "metadata": {},
   "source": [
    "# Использование категориальных признаков"
   ]
  },
  {
   "cell_type": "code",
   "execution_count": null,
   "metadata": {
    "collapsed": true
   },
   "outputs": [],
   "source": [
    "##Gradient Boosted Decision Trees\n",
    "## Random Forest\n",
    "## Bagging and RSM\n",
    "## Extreemly Randomize"
   ]
  },
  {
   "cell_type": "markdown",
   "metadata": {},
   "source": [
    "## Вывод"
   ]
  },
  {
   "cell_type": "markdown",
   "metadata": {},
   "source": [
    "# Другие модели и генерация дополнительных признаков"
   ]
  },
  {
   "cell_type": "markdown",
   "metadata": {},
   "source": [
    "## Вывод"
   ]
  },
  {
   "cell_type": "code",
   "execution_count": null,
   "metadata": {
    "collapsed": true
   },
   "outputs": [],
   "source": []
  }
 ],
 "metadata": {
  "anaconda-cloud": {},
  "kernelspec": {
   "display_name": "Python [conda root]",
   "language": "python",
   "name": "conda-root-py"
  }
 },
 "nbformat": 4,
 "nbformat_minor": 0
}
